{
 "cells": [
  {
   "cell_type": "code",
   "execution_count": 1,
   "metadata": {},
   "outputs": [],
   "source": [
    "import json\n",
    "import pandas\n",
    "import time\n",
    "import os\n",
    "import recordlinkage\n",
    "import jellyfish as jf\n",
    "import csv"
   ]
  },
  {
   "cell_type": "code",
   "execution_count": 2,
   "metadata": {},
   "outputs": [],
   "source": [
    "outputDir = 'scraped_json//'\n",
    "field_agg = \"_\"\n",
    "\n",
    "## Load the source file dict\n",
    "sourceFiles = json.loads(open('config//sourceFiles.json', \"r\").read())\n",
    "\n",
    "## Load the file schema\n",
    "sourceSchema = json.loads(open('config//sourceSchema.json', \"r\").read())\n",
    "\n",
    "## Load the id config\n",
    "idConfig = json.loads(open('config//idConfig.json', \"r\").read())"
   ]
  },
  {
   "cell_type": "code",
   "execution_count": null,
   "metadata": {},
   "outputs": [],
   "source": [
    "## If there are multiple files for any given dataset, then this function will combine all of those\n",
    "## records into a single dict\n",
    "def mergeSourceFiles (source, outputDir, sourceFiles):\n",
    "    recordList = []\n",
    "    for file in sourceFiles[source]:  \n",
    "        file = json.loads(open(outputDir + file, \"r\", encoding=\"utf-8\").read())\n",
    "        for record in file:\n",
    "            recordList.append(record)\n",
    "    return recordList"
   ]
  },
  {
   "cell_type": "code",
   "execution_count": null,
   "metadata": {},
   "outputs": [],
   "source": [
    "## Cycle through all of files per source and drop into a list of dicts\n",
    "## Printing list names for reference sake\n",
    "for key in sourceFiles.keys():\n",
    "    print(key)\n",
    "    vars()[key] = mergeSourceFiles(key, outputDir, sourceFiles)"
   ]
  },
  {
   "cell_type": "code",
   "execution_count": null,
   "metadata": {},
   "outputs": [],
   "source": [
    "## Clean up dirty names\n",
    "def mungeID(playerString):\n",
    "    return ''.join(e for e in playerString if e.isalnum()).lower().replace(\"jr.\", \"\").replace(\"st.\", \"state\") "
   ]
  },
  {
   "cell_type": "code",
   "execution_count": null,
   "metadata": {},
   "outputs": [],
   "source": [
    "#create a universal identifier\n",
    "#CHANGE - this is not going to be a list\n",
    "#CFB-Ref reports it in chronological order so we will join based on position 1\n",
    "\n",
    "def createNewID (fieldList, thisDict, fieldAgg):\n",
    "    finalID= ''\n",
    "    for i in thisDict:\n",
    "        for idx, val in enumerate(fieldList):\n",
    "            if (type(i[val]) is list):\n",
    "                i[val]= mungeID(i[val][0])\n",
    "                if (len(fieldList) -1 == idx):\n",
    "                    finalID += str(i[val]).strip('[]').strip(\"''\")\n",
    "            elif (type(val) is not list):\n",
    "                i[val] = mungeID(i[val])\n",
    "                if (len(fieldList) - 1 == idx):\n",
    "                    finalID += i[val]\n",
    "                else:\n",
    "                    finalID = i[val] + fieldAgg\n",
    "        i['ID'] = finalID\n",
    "        finalID=''"
   ]
  },
  {
   "cell_type": "code",
   "execution_count": null,
   "metadata": {},
   "outputs": [],
   "source": [
    "createNewID(idConfig['sports247'], sports247, field_agg)\n",
    "createNewID(idConfig['rivals'], rivals, field_agg)\n",
    "createNewID(idConfig['cfbRef'], cfbRef, field_agg)\n",
    "createNewID(idConfig['allConf'], allConf, field_agg)\n",
    "createNewID(idConfig['allAmerican'], allAmerican, field_agg)\n",
    "createNewID(idConfig['nflData'], nflData, field_agg)\n",
    "createNewID(idConfig['ncaa'], ncaa, field_agg)"
   ]
  },
  {
   "cell_type": "code",
   "execution_count": null,
   "metadata": {},
   "outputs": [],
   "source": [
    "df_sports247 = pandas.DataFrame(sports247)\n",
    "df_rivals = pandas.DataFrame(rivals)\n",
    "df_cfbRef = pandas.DataFrame(cfbRef)\n",
    "df_allConf = pandas.DataFrame(allConf)\n",
    "df_allAmerican = pandas.DataFrame(allAmerican)\n",
    "df_nflData = pandas.DataFrame(nflData)\n",
    "df_ncaa = pandas.DataFrame(ncaa)"
   ]
  },
  {
   "cell_type": "code",
   "execution_count": null,
   "metadata": {},
   "outputs": [],
   "source": [
    "indexer = recordlinkage.Index()\n",
    "indexer.block('school')\n",
    "indexer.block('year')\n",
    "candidate_links = indexer.index(df_sports247, df_rivals)"
   ]
  },
  {
   "cell_type": "code",
   "execution_count": null,
   "metadata": {},
   "outputs": [],
   "source": [
    "c = recordlinkage.Compare()\n",
    "\n",
    "\n",
    "c.exact('ID', 'ID', label='ID')\n",
    "\n",
    "#c.string(str('playerName'), str('playerName'), method='damerau_levenshtein', threshold=5, label='playerName')\n",
    "c.string('city', 'city', method='levenshtein', threshold=10, label='city')\n",
    "#c.string('state', 'state', method='levenshtein', threshold=3, label='state')\n",
    "#c.string('highSchool', 'highSchool', method='levenshtein', threshold=5, label='highSchool')\n",
    "\n",
    "# The comparison vectors\n",
    "features = c.compute(candidate_links, df_sports247, df_rivals)\n",
    "\n",
    "features"
   ]
  },
  {
   "cell_type": "code",
   "execution_count": null,
   "metadata": {},
   "outputs": [],
   "source": [
    "features.describe()"
   ]
  },
  {
   "cell_type": "code",
   "execution_count": null,
   "metadata": {},
   "outputs": [],
   "source": [
    "count = 0\n",
    "for record in sports247:\n",
    "    for rival in rivals:\n",
    "        if (record['city'] == rival['city']):\n",
    "            count = count + 1\n",
    "print(count)"
   ]
  },
  {
   "cell_type": "code",
   "execution_count": null,
   "metadata": {},
   "outputs": [],
   "source": [
    "features.sum(axis=1).value_counts().sort_index(ascending=False)\n",
    "matches = features[features.sum(axis=1) == 1]"
   ]
  }
 ],
 "metadata": {
  "kernelspec": {
   "display_name": "Python 3",
   "language": "python",
   "name": "python3"
  },
  "language_info": {
   "codemirror_mode": {
    "name": "ipython",
    "version": 3
   },
   "file_extension": ".py",
   "mimetype": "text/x-python",
   "name": "python",
   "nbconvert_exporter": "python",
   "pygments_lexer": "ipython3",
   "version": "3.8.5"
  }
 },
 "nbformat": 4,
 "nbformat_minor": 4
}
