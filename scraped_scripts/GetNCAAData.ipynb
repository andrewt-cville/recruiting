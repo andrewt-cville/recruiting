{
 "cells": [
  {
   "cell_type": "code",
   "execution_count": 1,
   "metadata": {},
   "outputs": [],
   "source": [
    "from bs4 import BeautifulSoup\n",
    "import requests\n",
    "import lxml\n",
    "import time\n",
    "import json\n",
    "import os.path\n",
    "from os import path\n",
    "import string"
   ]
  },
  {
   "cell_type": "code",
   "execution_count": 2,
   "metadata": {},
   "outputs": [],
   "source": [
    "def requestPage (url):\n",
    "    headers={'user-agent':'Mozilla/5.0 (Macintosh; Intel Mac OS X 10_14_2) AppleWebKit/537.36 (KHTML, like Gecko) Chrome/73.0.3683.103 Safari/537.36'}\n",
    "    r = requests.get(url, headers=headers)\n",
    "    request = {}\n",
    "    request['status_code'] = r.status_code\n",
    "    request['reason'] = r.reason\n",
    "    request['text'] = r.text\n",
    "    return request"
   ]
  },
  {
   "cell_type": "code",
   "execution_count": 30,
   "metadata": {},
   "outputs": [],
   "source": [
    "#Load NCAA Site Schema\n",
    "schoolsList = json.loads(open('../schools.json', \"r\").read())\n",
    "ncaaDates = json.loads(open('../ncaa_dates.json', \"r\").read())"
   ]
  },
  {
   "cell_type": "code",
   "execution_count": 31,
   "metadata": {},
   "outputs": [
    {
     "name": "stdout",
     "output_type": "stream",
     "text": [
      "[{'team': 'maryland', 'conference': 'bigten', 'ncaa': 'http://stats.ncaa.org/team/392/roster/'}, {'team': 'minnesota', 'conference': 'bigten', 'ncaa': 'http://stats.ncaa.org/team/428/roster/'}, {'team': 'alabama', 'conference': 'sec', 'ncaa': 'http://stats.ncaa.org/team/8/roster/'}, {'team': 'florida', 'conference': 'sec', 'ncaa': 'http://stats.ncaa.org/team/235/roster/'}]\n"
     ]
    }
   ],
   "source": [
    "urlDict = []\n",
    "for x in schoolsList:\n",
    "    if ('ncaa' in x.keys()):\n",
    "        thisUrl = {}\n",
    "        thisUrl['team'] = x['id']\n",
    "        thisUrl['conference'] = x['conference'][0]\n",
    "        thisUrl['ncaa'] = 'http://stats.ncaa.org/team/' + x['ncaa'] + '/roster/'\n",
    "        urlDict.append(thisUrl)\n",
    "print(urlDict)"
   ]
  },
  {
   "cell_type": "code",
   "execution_count": 33,
   "metadata": {},
   "outputs": [
    {
     "name": "stdout",
     "output_type": "stream",
     "text": [
      "http://stats.ncaa.org/team/392/roster/11520\n",
      "200\n",
      "http://stats.ncaa.org/team/392/roster/11980\n",
      "200\n",
      "http://stats.ncaa.org/team/392/roster/12240\n",
      "200\n",
      "http://stats.ncaa.org/team/392/roster/12424\n",
      "200\n",
      "http://stats.ncaa.org/team/392/roster/12623\n",
      "200\n",
      "http://stats.ncaa.org/team/392/roster/14280\n",
      "200\n",
      "http://stats.ncaa.org/team/392/roster/14900\n",
      "200\n",
      "http://stats.ncaa.org/team/392/roster/15280\n",
      "200\n",
      "http://stats.ncaa.org/team/428/roster/11520\n",
      "200\n",
      "http://stats.ncaa.org/team/428/roster/11980\n",
      "200\n",
      "http://stats.ncaa.org/team/428/roster/12240\n",
      "200\n",
      "http://stats.ncaa.org/team/428/roster/12424\n",
      "200\n",
      "http://stats.ncaa.org/team/428/roster/12623\n",
      "200\n",
      "http://stats.ncaa.org/team/428/roster/14280\n",
      "200\n",
      "http://stats.ncaa.org/team/428/roster/14900\n",
      "200\n",
      "http://stats.ncaa.org/team/428/roster/15280\n",
      "200\n",
      "http://stats.ncaa.org/team/8/roster/11520\n",
      "200\n",
      "http://stats.ncaa.org/team/8/roster/11980\n",
      "200\n",
      "http://stats.ncaa.org/team/8/roster/12240\n",
      "200\n",
      "http://stats.ncaa.org/team/8/roster/12424\n",
      "200\n",
      "http://stats.ncaa.org/team/8/roster/12623\n",
      "200\n",
      "http://stats.ncaa.org/team/8/roster/14280\n",
      "200\n",
      "http://stats.ncaa.org/team/8/roster/14900\n",
      "200\n",
      "http://stats.ncaa.org/team/8/roster/15280\n",
      "200\n",
      "http://stats.ncaa.org/team/235/roster/11520\n",
      "200\n",
      "http://stats.ncaa.org/team/235/roster/11980\n",
      "200\n",
      "http://stats.ncaa.org/team/235/roster/12240\n",
      "200\n",
      "http://stats.ncaa.org/team/235/roster/12424\n",
      "200\n",
      "http://stats.ncaa.org/team/235/roster/12623\n",
      "200\n",
      "http://stats.ncaa.org/team/235/roster/14280\n",
      "200\n",
      "http://stats.ncaa.org/team/235/roster/14900\n",
      "200\n",
      "http://stats.ncaa.org/team/235/roster/15280\n",
      "200\n"
     ]
    }
   ],
   "source": [
    "for x in urlDict:\n",
    "    for year in ncaaDates:\n",
    "        print(x['ncaa'] + year['id'])\n",
    "        request = requestPage(x['ncaa'] + year['id'])\n",
    "        print(request['status_code'])\n",
    "        if (request['status_code'] == 200):\n",
    "            with open(\"..//html//ncaa//\" + x['conference'] + \"//rosters//\" + x['team'] + \"_\" + year['year'] + \".html\", \"w\", encoding=\"utf-8\") as write_file:\n",
    "                write_file.write(request['text'])\n",
    "        time.sleep(6)"
   ]
  },
  {
   "cell_type": "code",
   "execution_count": null,
   "metadata": {},
   "outputs": [],
   "source": []
  }
 ],
 "metadata": {
  "kernelspec": {
   "display_name": "Python 3",
   "language": "python",
   "name": "python3"
  },
  "language_info": {
   "codemirror_mode": {
    "name": "ipython",
    "version": 3
   },
   "file_extension": ".py",
   "mimetype": "text/x-python",
   "name": "python",
   "nbconvert_exporter": "python",
   "pygments_lexer": "ipython3",
   "version": "3.8.5"
  }
 },
 "nbformat": 4,
 "nbformat_minor": 4
}
