{
 "cells": [
  {
   "cell_type": "code",
   "execution_count": 40,
   "metadata": {},
   "outputs": [],
   "source": [
    "from bs4 import BeautifulSoup\n",
    "import requests\n",
    "import lxml\n",
    "import time\n",
    "import json\n",
    "import os.path\n",
    "from os import path\n",
    "import string"
   ]
  },
  {
   "cell_type": "code",
   "execution_count": 41,
   "metadata": {},
   "outputs": [],
   "source": [
    "def requestPage (url):\n",
    "    headers={'user-agent':'Mozilla/5.0 (Macintosh; Intel Mac OS X 10_14_2) AppleWebKit/537.36 (KHTML, like Gecko) Chrome/73.0.3683.103 Safari/537.36'}\n",
    "    r = requests.get(url, headers=headers)\n",
    "    request = {}\n",
    "    request['status_code'] = r.status_code\n",
    "    request['reason'] = r.reason\n",
    "    request['text'] = r.text\n",
    "    return request"
   ]
  },
  {
   "cell_type": "code",
   "execution_count": 42,
   "metadata": {},
   "outputs": [
    {
     "name": "stdout",
     "output_type": "stream",
     "text": [
      "[{'team': 'maryland', 'data': [{'year': '2013', 'teamOverview': 'http://stats.ncaa.org/teams/62733?utf8=✓&year_id=62733&sport_id=499562&commit=Submit&org_sport_name=&org_id=', 'roster': 'http://stats.ncaa.org/team/392/roster/11520'}, {'year': '2014', 'teamOverview': 'http://stats.ncaa.org/teams/83603?utf8=✓&year_id=83603&sport_id=62733&commit=Submit&org_sport_name=&org_id=', 'roster': 'http://stats.ncaa.org/team/392/roster/11980'}, {'year': '2015', 'teamOverview': 'http://stats.ncaa.org/teams/19665?utf8=✓&year_id=19665&sport_id=83603&commit=Submit&org_sport_name=&org_id=', 'roster': 'http://stats.ncaa.org/team/392/roster/12240'}, {'year': '2016', 'teamOverview': 'http://stats.ncaa.org/teams/66631?utf8=✓&year_id=66631&sport_id=19665&commit=Submit&org_sport_name=&org_id=', 'roster': 'http://stats.ncaa.org/team/392/roster/12424'}, {'year': '2017', 'teamOverview': 'http://stats.ncaa.org/teams/113577?utf8=✓&year_id=113577&sport_id=66631&commit=Submit&org_sport_name=&org_id=', 'roster': 'http://stats.ncaa.org/team/392/roster/12623'}, {'year': '2018', 'teamOverview': 'http://stats.ncaa.org/teams/449835?utf8=✓&year_id=449835&sport_id=113577&commit=Submit&org_sport_name=&org_id=', 'roster': 'http://stats.ncaa.org/team/392/roster/14280'}, {'year': '2019', 'teamOverview': 'http://stats.ncaa.org/teams/478041?utf8=✓&year_id=478041&sport_id=449835&commit=Submit&org_sport_name=&org_id=', 'roster': 'http://stats.ncaa.org/team/392/roster/14900'}, {'year': '2020', 'teamOverview': 'http://stats.ncaa.org/teams/499562?utf8=✓&year_id=499562&sport_id=478041&commit=Submit&org_sport_name=&org_id=', 'roster': 'http://stats.ncaa.org/team/392/roster/15280'}]}]\n"
     ]
    }
   ],
   "source": [
    "#Load NCAA Site Schema\n",
    "ncaaSiteSchema = json.loads(open('../ncaa_schema.json', \"r\").read())\n",
    "\n",
    "print(ncaaSiteSchema)"
   ]
  },
  {
   "cell_type": "code",
   "execution_count": 43,
   "metadata": {},
   "outputs": [
    {
     "name": "stdout",
     "output_type": "stream",
     "text": [
      "{'team': 'maryland', 'data': {'2013': 'http://stats.ncaa.org/team/392/roster/11520', '2014': 'http://stats.ncaa.org/team/392/roster/11980', '2015': 'http://stats.ncaa.org/team/392/roster/12240', '2016': 'http://stats.ncaa.org/team/392/roster/12424', '2017': 'http://stats.ncaa.org/team/392/roster/12623', '2018': 'http://stats.ncaa.org/team/392/roster/14280', '2019': 'http://stats.ncaa.org/team/392/roster/14900', '2020': 'http://stats.ncaa.org/team/392/roster/15280'}}\n"
     ]
    }
   ],
   "source": [
    "output_data = {}\n",
    "for i in ncaaSiteSchema:\n",
    "    output_data['team'] = i['team']\n",
    "    output_data['data'] = {}\n",
    "    for x in i['data']:\n",
    "        output_data['data'][x['year']] = x['roster']\n",
    "\n",
    "print(output_data)"
   ]
  },
  {
   "cell_type": "code",
   "execution_count": 45,
   "metadata": {},
   "outputs": [
    {
     "name": "stdout",
     "output_type": "stream",
     "text": [
      "200\n",
      "OK\n",
      "200\n",
      "OK\n",
      "200\n",
      "OK\n",
      "200\n",
      "OK\n",
      "200\n",
      "OK\n",
      "200\n",
      "OK\n",
      "200\n",
      "OK\n",
      "200\n",
      "OK\n"
     ]
    }
   ],
   "source": [
    "for key,value in output_data['data'].items():\n",
    "    request = requestPage(value)\n",
    "    print(request['status_code'])\n",
    "    print(request['reason'])\n",
    "    if (request['status_code'] == 200):\n",
    "        with open(\"..//html//ncaa//bigten//rosters//\" + output_data['team'] + '_' + key + '.html', \"w\", encoding=\"utf-8\") as write_file:\n",
    "            write_file.write(request['text'])\n",
    "        time.sleep(6)"
   ]
  },
  {
   "cell_type": "code",
   "execution_count": null,
   "metadata": {},
   "outputs": [],
   "source": []
  }
 ],
 "metadata": {
  "kernelspec": {
   "display_name": "Python 3",
   "language": "python",
   "name": "python3"
  },
  "language_info": {
   "codemirror_mode": {
    "name": "ipython",
    "version": 3
   },
   "file_extension": ".py",
   "mimetype": "text/x-python",
   "name": "python",
   "nbconvert_exporter": "python",
   "pygments_lexer": "ipython3",
   "version": "3.8.5"
  }
 },
 "nbformat": 4,
 "nbformat_minor": 4
}
