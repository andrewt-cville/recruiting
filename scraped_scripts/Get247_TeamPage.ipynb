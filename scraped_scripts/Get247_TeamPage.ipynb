{
 "cells": [
  {
   "cell_type": "code",
   "execution_count": null,
   "metadata": {},
   "outputs": [],
   "source": [
    "from bs4 import BeautifulSoup\n",
    "import requests\n",
    "import lxml\n",
    "import time\n",
    "import json\n",
    "import os.path\n",
    "from os import path"
   ]
  },
  {
   "cell_type": "code",
   "execution_count": null,
   "metadata": {},
   "outputs": [],
   "source": [
    "years = ['2002', '2003', '2004', '2005', '2006', '2007', '2008','2009','2010', '2011', '2012', '2013', '2014', '2015', '2016', '2017', '2018', '2019', '2020']\n",
    "headers={'user-agent':'Mozilla/5.0 (Macintosh; Intel Mac OS X 10_14_2) AppleWebKit/537.36 (KHTML, like Gecko) Chrome/73.0.3683.103 Safari/537.36'}\n",
    "confFolder = ['bigten']\n",
    "teams = ['maryland', 'illinois', 'indiana', 'iowa', 'michigan-state', 'michigan', 'minnesota', 'nebraska', 'northwestern', 'ohio-state', 'penn-state', 'purdue', 'rutgers', 'wisconsin']\n",
    "#teams = ['baylor', 'iowa-state', 'kansas', 'kansas-state', 'oklahoma', 'oklahoma-state', 'tcu', 'texas', 'texas-tech', 'west-virginia']\n",
    "#teams = ['alabama', 'arkansas', 'auburn', 'florida', 'georgia', 'kentucky', 'lsu', 'mississippi-state', 'missouri', 'ole-miss', 'south-carolina', 'tennessee', 'texas-am', 'vanderbilt']\n",
    "#years = ['2002', '2003']\n",
    "#teams = ['maryland', 'illinois']"
   ]
  },
  {
   "cell_type": "code",
   "execution_count": null,
   "metadata": {},
   "outputs": [],
   "source": [
    "#Starting by just getting the team page\n",
    "#But you are going to have to go another two layers down\n",
    "\n",
    "all_recruits = []\n",
    "for y in years:\n",
    "    for team in teams:\n",
    "        url = 'https://247sports.com/college/{}/Season/{}-Football/Commits/'.format(team,y)\n",
    "        print (url)\n",
    "        r = requests.get(url, headers=headers)\n",
    "        with open(\"247\\\\\" + confFolder[0] + \"\\\\teams\\\\\" + team + \"_\" + y + \".html\", \"w\") as write_file:\n",
    "            write_file.write(r.text)\n",
    "        time.sleep(6)"
   ]
  },
  {
   "cell_type": "code",
   "execution_count": null,
   "metadata": {},
   "outputs": [],
   "source": []
  }
 ],
 "metadata": {
  "kernelspec": {
   "display_name": "Python 3",
   "language": "python",
   "name": "python3"
  },
  "language_info": {
   "codemirror_mode": {
    "name": "ipython",
    "version": 3
   },
   "file_extension": ".py",
   "mimetype": "text/x-python",
   "name": "python",
   "nbconvert_exporter": "python",
   "pygments_lexer": "ipython3",
   "version": "3.8.3"
  }
 },
 "nbformat": 4,
 "nbformat_minor": 2
}
