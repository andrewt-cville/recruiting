{
 "cells": [
  {
   "cell_type": "code",
   "execution_count": 1,
   "metadata": {},
   "outputs": [],
   "source": [
    "from bs4 import BeautifulSoup\n",
    "import requests\n",
    "import lxml\n",
    "import time\n",
    "import json\n",
    "import os.path\n",
    "from os import path"
   ]
  },
  {
   "cell_type": "code",
   "execution_count": 2,
   "metadata": {},
   "outputs": [],
   "source": [
    "incorrectPath = \".//html//247//bigten//prospects//\"\n",
    "correctPath = \".//html//247//bigtwelve//prospects//\"\n",
    "schools = ['baylor', 'iowa-state', 'oklahoma', 'kansas', 'kansas-state' 'oklahoma-state', 'tcu', 'texas', 'texas-tech', 'west-virginia']"
   ]
  },
  {
   "cell_type": "code",
   "execution_count": 3,
   "metadata": {},
   "outputs": [],
   "source": [
    "for file in os.listdir(incorrectPath):\n",
    "    fileName = file.split('_')\n",
    "    playerName = fileName[0]\n",
    "    team = fileName[1]\n",
    "    year = fileName[3].split('.')[0]\n",
    "    if team in schools:\n",
    "        print ('IM IN IT: ' + team)\n",
    "        os.rename(incorrectPath + file, correctPath+file)"
   ]
  },
  {
   "cell_type": "code",
   "execution_count": null,
   "metadata": {},
   "outputs": [],
   "source": []
  }
 ],
 "metadata": {
  "kernelspec": {
   "display_name": "Python 3",
   "language": "python",
   "name": "python3"
  },
  "language_info": {
   "codemirror_mode": {
    "name": "ipython",
    "version": 3
   },
   "file_extension": ".py",
   "mimetype": "text/x-python",
   "name": "python",
   "nbconvert_exporter": "python",
   "pygments_lexer": "ipython3",
   "version": "3.8.3"
  }
 },
 "nbformat": 4,
 "nbformat_minor": 4
}
