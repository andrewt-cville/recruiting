{
 "cells": [
  {
   "cell_type": "code",
   "execution_count": 24,
   "metadata": {},
   "outputs": [],
   "source": [
    "import json\n",
    "import pandas\n",
    "import time\n",
    "import os\n",
    "import csv\n",
    "from functools import reduce"
   ]
  },
  {
   "cell_type": "code",
   "execution_count": 3,
   "metadata": {},
   "outputs": [],
   "source": [
    "outputDir = 'scraped_json//'\n",
    "field_agg = \"_\"\n",
    "\n",
    "## Load the source file dict\n",
    "sourceFiles = json.loads(open('sourceFiles.json', \"r\").read())\n",
    "\n",
    "## Load the file schema - THIS ISN'T BEING USED :S\n",
    "sourceSchema = json.loads(open('sourceSchema.json', \"r\").read())\n",
    "\n",
    "## Load the id config\n",
    "idConfig = json.loads(open('idConfig.json', \"r\").read())"
   ]
  },
  {
   "cell_type": "code",
   "execution_count": 4,
   "metadata": {},
   "outputs": [],
   "source": [
    "## If there are multiple files for any given dataset, then this function will combine all of those\n",
    "## records into a single dicti\n",
    "def mergeSourceFiles (source, outputDir, sourceFiles):\n",
    "    recordList = []\n",
    "    for file in sourceFiles[source]:  \n",
    "        file = json.loads(open(outputDir + file, \"r\", encoding=\"utf-8\").read())\n",
    "        for record in file:\n",
    "            recordList.append(record)\n",
    "    return recordList"
   ]
  },
  {
   "cell_type": "code",
   "execution_count": 5,
   "metadata": {
    "scrolled": true
   },
   "outputs": [
    {
     "name": "stdout",
     "output_type": "stream",
     "text": [
      "sports247\n",
      "rivals\n",
      "cfbRef\n",
      "allConf\n",
      "allAmerican\n",
      "nflData\n",
      "ncaa\n"
     ]
    }
   ],
   "source": [
    "## Cycle through all of files per source and drop into a list of dicts\n",
    "## Printing list names for reference sake\n",
    "for key in sourceFiles.keys():\n",
    "    print(key)\n",
    "    vars()[key] = mergeSourceFiles(key, outputDir, sourceFiles)\n",
    "    \n",
    "    "
   ]
  },
  {
   "cell_type": "code",
   "execution_count": 6,
   "metadata": {},
   "outputs": [],
   "source": [
    "## Clean up dirty names\n",
    "def mungeID(playerString):\n",
    "    return ''.join(e for e in playerString if e.isalnum()).lower().replace(\"jr.\", \"\").replace(\"st.\", \"state\") "
   ]
  },
  {
   "cell_type": "code",
   "execution_count": 7,
   "metadata": {},
   "outputs": [],
   "source": [
    "#create a universal identifier\n",
    "#CHANGE - this is not going to be a list\n",
    "#CFB-Ref reports it in chronological order so we will join based on position 1\n",
    "\n",
    "def createNewID (fieldList, thisDict, fieldAgg):\n",
    "    finalID= ''\n",
    "    for i in thisDict:\n",
    "        for idx, val in enumerate(fieldList):\n",
    "            if (type(i[val]) is list):\n",
    "                i[val]= mungeID(i[val][0])\n",
    "                if (len(fieldList) -1 == idx):\n",
    "                    finalID += str(i[val]).strip('[]').strip(\"''\")\n",
    "            elif (type(val) is not list):\n",
    "                i[val] = mungeID(i[val])\n",
    "                if (len(fieldList) - 1 == idx):\n",
    "                    finalID += i[val]\n",
    "                else:\n",
    "                    finalID = i[val] + fieldAgg\n",
    "        i['ID'] = finalID\n",
    "        finalID=''"
   ]
  },
  {
   "cell_type": "code",
   "execution_count": 8,
   "metadata": {},
   "outputs": [],
   "source": [
    "createNewID(idConfig['sports247'], sports247, field_agg)\n",
    "createNewID(idConfig['rivals'], rivals, field_agg)\n",
    "createNewID(idConfig['cfbRef'], cfbRef, field_agg)\n",
    "createNewID(idConfig['allConf'], allConf, field_agg)\n",
    "createNewID(idConfig['allAmerican'], allAmerican, field_agg)\n",
    "createNewID(idConfig['nflData'], nflData, field_agg)\n",
    "createNewID(idConfig['ncaa'], ncaa, field_agg)"
   ]
  },
  {
   "cell_type": "code",
   "execution_count": 26,
   "metadata": {},
   "outputs": [],
   "source": [
    "df_sports247 = pandas.DataFrame(sports247)\n",
    "df_rivals = pandas.DataFrame(rivals)\n",
    "df_cfbRef = pandas.DataFrame(cfbRef)\n",
    "df_allConf = pandas.DataFrame(allConf)\n",
    "df_allAmerican = pandas.DataFrame(allAmerican)\n",
    "df_nflData = pandas.DataFrame(nflData)\n",
    "df_ncaa = pandas.DataFrame(ncaa)\n",
    "\n",
    "dfs= [df_sports247, df_rivals, df_cfbRef, df_allConf, df_allAmerican, df_nflData, df_ncaa]"
   ]
  },
  {
   "cell_type": "code",
   "execution_count": 48,
   "metadata": {},
   "outputs": [
    {
     "data": {
      "text/html": [
       "<div>\n",
       "<style scoped>\n",
       "    .dataframe tbody tr th:only-of-type {\n",
       "        vertical-align: middle;\n",
       "    }\n",
       "\n",
       "    .dataframe tbody tr th {\n",
       "        vertical-align: top;\n",
       "    }\n",
       "\n",
       "    .dataframe thead th {\n",
       "        text-align: right;\n",
       "    }\n",
       "</style>\n",
       "<table border=\"1\" class=\"dataframe\">\n",
       "  <thead>\n",
       "    <tr style=\"text-align: right;\">\n",
       "      <th></th>\n",
       "      <th>school_x</th>\n",
       "      <th>year_x</th>\n",
       "      <th>playerName_x</th>\n",
       "      <th>highSchool_x</th>\n",
       "      <th>city_x</th>\n",
       "      <th>state_x</th>\n",
       "      <th>position_x</th>\n",
       "      <th>height_x</th>\n",
       "      <th>weight_x</th>\n",
       "      <th>compRating</th>\n",
       "      <th>...</th>\n",
       "      <th>all_pros_first_team</th>\n",
       "      <th>pro_bowls</th>\n",
       "      <th>years_as_primary_starter</th>\n",
       "      <th>g</th>\n",
       "      <th>college_id</th>\n",
       "      <th>name</th>\n",
       "      <th>team_y</th>\n",
       "      <th>gamesPlayed_y</th>\n",
       "      <th>gamesStarted</th>\n",
       "      <th>year_y</th>\n",
       "    </tr>\n",
       "  </thead>\n",
       "  <tbody>\n",
       "    <tr>\n",
       "      <th>0</th>\n",
       "      <td>nebraska</td>\n",
       "      <td>2012</td>\n",
       "      <td>paulthurston</td>\n",
       "      <td>Arvada West</td>\n",
       "      <td>Arvada</td>\n",
       "      <td>CO</td>\n",
       "      <td>OT</td>\n",
       "      <td>77</td>\n",
       "      <td>275</td>\n",
       "      <td>0.9407</td>\n",
       "      <td>...</td>\n",
       "      <td>NaN</td>\n",
       "      <td>NaN</td>\n",
       "      <td>NaN</td>\n",
       "      <td>NaN</td>\n",
       "      <td>NaN</td>\n",
       "      <td>NaN</td>\n",
       "      <td>NaN</td>\n",
       "      <td>NaN</td>\n",
       "      <td>NaN</td>\n",
       "      <td>NaN</td>\n",
       "    </tr>\n",
       "    <tr>\n",
       "      <th>1</th>\n",
       "      <td>nebraska</td>\n",
       "      <td>2012</td>\n",
       "      <td>gregmcmullen</td>\n",
       "      <td>Archbishop Hoban</td>\n",
       "      <td>Akron</td>\n",
       "      <td>OH</td>\n",
       "      <td>SDE</td>\n",
       "      <td>77</td>\n",
       "      <td>255</td>\n",
       "      <td>0.9099</td>\n",
       "      <td>...</td>\n",
       "      <td>NaN</td>\n",
       "      <td>NaN</td>\n",
       "      <td>NaN</td>\n",
       "      <td>NaN</td>\n",
       "      <td>NaN</td>\n",
       "      <td>NaN</td>\n",
       "      <td>NaN</td>\n",
       "      <td>NaN</td>\n",
       "      <td>NaN</td>\n",
       "      <td>NaN</td>\n",
       "    </tr>\n",
       "    <tr>\n",
       "      <th>2</th>\n",
       "      <td>nebraska</td>\n",
       "      <td>2012</td>\n",
       "      <td>jordanwesterkamp</td>\n",
       "      <td>Montini Catholic</td>\n",
       "      <td>Lombard</td>\n",
       "      <td>IL</td>\n",
       "      <td>WR</td>\n",
       "      <td>73</td>\n",
       "      <td>190</td>\n",
       "      <td>0.9134</td>\n",
       "      <td>...</td>\n",
       "      <td>NaN</td>\n",
       "      <td>NaN</td>\n",
       "      <td>NaN</td>\n",
       "      <td>NaN</td>\n",
       "      <td>NaN</td>\n",
       "      <td>NaN</td>\n",
       "      <td>NaN</td>\n",
       "      <td>NaN</td>\n",
       "      <td>NaN</td>\n",
       "      <td>NaN</td>\n",
       "    </tr>\n",
       "    <tr>\n",
       "      <th>3</th>\n",
       "      <td>nebraska</td>\n",
       "      <td>2012</td>\n",
       "      <td>jordanwesterkamp</td>\n",
       "      <td>Montini Catholic</td>\n",
       "      <td>Lombard</td>\n",
       "      <td>IL</td>\n",
       "      <td>WR</td>\n",
       "      <td>73</td>\n",
       "      <td>190</td>\n",
       "      <td>0.9134</td>\n",
       "      <td>...</td>\n",
       "      <td>NaN</td>\n",
       "      <td>NaN</td>\n",
       "      <td>NaN</td>\n",
       "      <td>NaN</td>\n",
       "      <td>NaN</td>\n",
       "      <td>NaN</td>\n",
       "      <td>NaN</td>\n",
       "      <td>NaN</td>\n",
       "      <td>NaN</td>\n",
       "      <td>NaN</td>\n",
       "    </tr>\n",
       "    <tr>\n",
       "      <th>4</th>\n",
       "      <td>nebraska</td>\n",
       "      <td>2012</td>\n",
       "      <td>imanicross</td>\n",
       "      <td>North Hall</td>\n",
       "      <td>Gainesville</td>\n",
       "      <td>GA</td>\n",
       "      <td>RB</td>\n",
       "      <td>73</td>\n",
       "      <td>222</td>\n",
       "      <td>0.9093</td>\n",
       "      <td>...</td>\n",
       "      <td>NaN</td>\n",
       "      <td>NaN</td>\n",
       "      <td>NaN</td>\n",
       "      <td>NaN</td>\n",
       "      <td>NaN</td>\n",
       "      <td>NaN</td>\n",
       "      <td>NaN</td>\n",
       "      <td>NaN</td>\n",
       "      <td>NaN</td>\n",
       "      <td>NaN</td>\n",
       "    </tr>\n",
       "  </tbody>\n",
       "</table>\n",
       "<p>5 rows × 68 columns</p>\n",
       "</div>"
      ],
      "text/plain": [
       "   school_x year_x      playerName_x      highSchool_x       city_x state_x  \\\n",
       "0  nebraska   2012      paulthurston       Arvada West       Arvada      CO   \n",
       "1  nebraska   2012      gregmcmullen  Archbishop Hoban        Akron      OH   \n",
       "2  nebraska   2012  jordanwesterkamp  Montini Catholic      Lombard      IL   \n",
       "3  nebraska   2012  jordanwesterkamp  Montini Catholic      Lombard      IL   \n",
       "4  nebraska   2012        imanicross        North Hall  Gainesville      GA   \n",
       "\n",
       "  position_x height_x weight_x compRating  ...  all_pros_first_team pro_bowls  \\\n",
       "0         OT       77      275     0.9407  ...                  NaN       NaN   \n",
       "1        SDE       77      255     0.9099  ...                  NaN       NaN   \n",
       "2         WR       73      190     0.9134  ...                  NaN       NaN   \n",
       "3         WR       73      190     0.9134  ...                  NaN       NaN   \n",
       "4         RB       73      222     0.9093  ...                  NaN       NaN   \n",
       "\n",
       "  years_as_primary_starter    g college_id  name team_y gamesPlayed_y  \\\n",
       "0                      NaN  NaN        NaN   NaN    NaN           NaN   \n",
       "1                      NaN  NaN        NaN   NaN    NaN           NaN   \n",
       "2                      NaN  NaN        NaN   NaN    NaN           NaN   \n",
       "3                      NaN  NaN        NaN   NaN    NaN           NaN   \n",
       "4                      NaN  NaN        NaN   NaN    NaN           NaN   \n",
       "\n",
       "  gamesStarted year_y  \n",
       "0          NaN    NaN  \n",
       "1          NaN    NaN  \n",
       "2          NaN    NaN  \n",
       "3          NaN    NaN  \n",
       "4          NaN    NaN  \n",
       "\n",
       "[5 rows x 68 columns]"
      ]
     },
     "execution_count": 48,
     "metadata": {},
     "output_type": "execute_result"
    }
   ],
   "source": [
    "## I have no how it works\n",
    "# BUT IT IS BEAUTIFUL\n",
    "## src: https://stackoverflow.com/questions/23668427/pandas-three-way-joining-multiple-dataframes-on-columns\n",
    "df_final = reduce(lambda left,right: pandas.merge(left,right,how=\"left\", on='ID'), dfs)\n",
    "df_final.head()"
   ]
  },
  {
   "cell_type": "code",
   "execution_count": 45,
   "metadata": {},
   "outputs": [],
   "source": [
    "final = df_final.to_csv()"
   ]
  },
  {
   "cell_type": "code",
   "execution_count": 50,
   "metadata": {},
   "outputs": [],
   "source": [
    "with open(\"pdmerge.csv\", \"w\", encoding=\"utf-8\") as write_file:\n",
    "                write_file.write(df_final.to_csv())"
   ]
  },
  {
   "cell_type": "code",
   "execution_count": 20,
   "metadata": {},
   "outputs": [
    {
     "data": {
      "text/plain": [
       "(17403, 33)"
      ]
     },
     "execution_count": 20,
     "metadata": {},
     "output_type": "execute_result"
    }
   ],
   "source": [
    "left_merged = pandas.merge(df_sports247, df_rivals, suffixes=[\"\",\"_rivals\"],\n",
    "                        how=\"left\", on=[\"ID\", \"ID\"])\n",
    "left_merged.head()\n",
    "left_merged.shape"
   ]
  },
  {
   "cell_type": "code",
   "execution_count": 23,
   "metadata": {},
   "outputs": [
    {
     "data": {
      "text/plain": [
       "Index(['school', 'year', 'playerName', 'highSchool', 'city', 'state',\n",
       "       'position', 'height', 'weight', 'compRating', 'compStars',\n",
       "       'nationalRank', 'positionRank', 'stateRank', '247Rating', '247Stars',\n",
       "       '247positionRank', '247stateRank', 'ID', '247nationalRank',\n",
       "       'school_rivals', 'year_rivals', 'playerName_rivals', 'city_rivals',\n",
       "       'state_rivals', 'highSchool_rivals', 'position_rivals', 'height_rivals',\n",
       "       'weight_rivals', 'stars', 'nationalRank_rivals', 'positionRank_rivals',\n",
       "       'stateRank_rivals'],\n",
       "      dtype='object')"
      ]
     },
     "execution_count": 23,
     "metadata": {},
     "output_type": "execute_result"
    }
   ],
   "source": [
    "left_merged.columns"
   ]
  },
  {
   "cell_type": "code",
   "execution_count": null,
   "metadata": {},
   "outputs": [],
   "source": []
  }
 ],
 "metadata": {
  "kernelspec": {
   "display_name": "Python 3",
   "language": "python",
   "name": "python3"
  },
  "language_info": {
   "codemirror_mode": {
    "name": "ipython",
    "version": 3
   },
   "file_extension": ".py",
   "mimetype": "text/x-python",
   "name": "python",
   "nbconvert_exporter": "python",
   "pygments_lexer": "ipython3",
   "version": "3.8.5"
  }
 },
 "nbformat": 4,
 "nbformat_minor": 4
}
