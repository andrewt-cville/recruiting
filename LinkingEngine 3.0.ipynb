{
 "cells": [
  {
   "cell_type": "code",
   "execution_count": 112,
   "metadata": {},
   "outputs": [],
   "source": [
    "import json\n",
    "import pandas\n",
    "import time\n",
    "import os\n",
    "import recordlinkage\n",
    "import jellyfish as jf\n",
    "import csv"
   ]
  },
  {
   "cell_type": "code",
   "execution_count": 113,
   "metadata": {},
   "outputs": [],
   "source": [
    "outputDir = 'scraped_json//'\n",
    "field_agg = \"_\"\n",
    "\n",
    "## Load the source file dict\n",
    "sourceFiles = json.loads(open('sourceFiles.json', \"r\").read())\n",
    "\n",
    "## Load the file schema\n",
    "sourceSchema = json.loads(open('sourceSchema.json', \"r\").read())\n",
    "\n",
    "## Load the id config\n",
    "idConfig = json.loads(open('idConfig.json', \"r\").read())"
   ]
  },
  {
   "cell_type": "code",
   "execution_count": 114,
   "metadata": {},
   "outputs": [],
   "source": [
    "def mergeSourceFiles (source, outputDir, sourceFiles):\n",
    "    recordList = []\n",
    "    for file in sourceFiles[source]:  \n",
    "        file = json.loads(open(outputDir + file, \"r\", encoding=\"utf-8\").read())\n",
    "        for record in file:\n",
    "            recordList.append(record)\n",
    "    return recordList"
   ]
  },
  {
   "cell_type": "code",
   "execution_count": 115,
   "metadata": {},
   "outputs": [
    {
     "name": "stdout",
     "output_type": "stream",
     "text": [
      "sports247\n",
      "rivals\n",
      "cfbRef\n",
      "allConf\n",
      "allAmerican\n",
      "nflData\n"
     ]
    }
   ],
   "source": [
    "## Cycle through all of files per source and drop into a list of dicts\n",
    "## Printing list names for reference sake\n",
    "for key in sourceFiles.keys():\n",
    "    print(key)\n",
    "    vars()[key] = mergeSourceFiles(key, outputDir, sourceFiles)\n",
    "    "
   ]
  },
  {
   "cell_type": "code",
   "execution_count": 116,
   "metadata": {},
   "outputs": [],
   "source": [
    "## Clean up dirty names\n",
    "def mungeID(playerString):\n",
    "    return ''.join(e for e in playerString if e.isalnum()).lower().replace(\"jr.\", \"\").replace(\"st.\", \"state\")  "
   ]
  },
  {
   "cell_type": "code",
   "execution_count": 117,
   "metadata": {},
   "outputs": [],
   "source": [
    "#create a universal identifier\n",
    "#CHANGE - this is not going to be a list\n",
    "#CFB-Ref reports it in chronological order so we will join based on position 1\n",
    "\n",
    "def createNewID (fieldList, thisDict, fieldAgg):\n",
    "    finalID= ''\n",
    "    for i in thisDict:\n",
    "        for idx, val in enumerate(fieldList):\n",
    "            if (type(i[val]) is list):\n",
    "                i[val]= mungeID(i[val][0])\n",
    "                if (len(fieldList) -1 == idx):\n",
    "                    finalID += str(i[val]).strip('[]').strip(\"''\")\n",
    "            elif (type(val) is not list):\n",
    "                i[val] = mungeID(i[val])\n",
    "                if (len(fieldList) - 1 == idx):\n",
    "                    finalID += i[val]\n",
    "                else:\n",
    "                    finalID = i[val] + fieldAgg\n",
    "        i['ID'] = finalID\n",
    "        finalID=''"
   ]
  },
  {
   "cell_type": "code",
   "execution_count": 118,
   "metadata": {},
   "outputs": [],
   "source": [
    "createNewID(idConfig['sports247'], sports247, field_agg)\n",
    "createNewID(idConfig['rivals'], rivals, field_agg)\n",
    "createNewID(idConfig['cfbRef'], cfbRef, field_agg)\n",
    "createNewID(idConfig['allConf'], allConf, field_agg)\n",
    "createNewID(idConfig['allAmerican'], allAmerican, field_agg)\n",
    "createNewID(idConfig['nflData'], nflData, field_agg)\n",
    "\n",
    "#createNewID(idConfig['rivals'], rivals, field_agg)"
   ]
  },
  {
   "cell_type": "code",
   "execution_count": 119,
   "metadata": {},
   "outputs": [
    {
     "data": {
      "text/plain": [
       "school           object\n",
       "year             object\n",
       "playerName       object\n",
       "city             object\n",
       "state            object\n",
       "highSchool       object\n",
       "position         object\n",
       "height          float64\n",
       "weight          float64\n",
       "stars             int64\n",
       "nationalRank    float64\n",
       "positionRank    float64\n",
       "stateRank       float64\n",
       "ID               object\n",
       "dtype: object"
      ]
     },
     "execution_count": 119,
     "metadata": {},
     "output_type": "execute_result"
    }
   ],
   "source": [
    "df_sports247 = pandas.DataFrame(sports247)\n",
    "df_rivals = pandas.DataFrame(rivals)\n",
    "df_cfbRef = pandas.DataFrame(cfbRef)\n",
    "df_allConf = pandas.DataFrame(allConf)\n",
    "df_allAmerican = pandas.DataFrame(allAmerican)\n",
    "df_nflData = pandas.DataFrame(nflData)\n",
    "\n",
    "#df_sports247.dtypes\n",
    "df_rivals.dtypes"
   ]
  },
  {
   "cell_type": "code",
   "execution_count": 108,
   "metadata": {},
   "outputs": [
    {
     "name": "stderr",
     "output_type": "stream",
     "text": [
      "IOPub data rate exceeded.\n",
      "The notebook server will temporarily stop sending output\n",
      "to the client in order to avoid crashing it.\n",
      "To change this limit, set the config variable\n",
      "`--NotebookApp.iopub_data_rate_limit`.\n",
      "\n",
      "Current values:\n",
      "NotebookApp.iopub_data_rate_limit=1000000.0 (bytes/sec)\n",
      "NotebookApp.rate_limit_window=3.0 (secs)\n",
      "\n"
     ]
    }
   ],
   "source": [
    "print(rivals)"
   ]
  },
  {
   "cell_type": "code",
   "execution_count": 120,
   "metadata": {},
   "outputs": [],
   "source": [
    "indexer = recordlinkage.Index()\n",
    "indexer.block('school')\n",
    "indexer.block('year')\n",
    "candidate_links = indexer.index(df_sports247, df_rivals)"
   ]
  },
  {
   "cell_type": "code",
   "execution_count": 122,
   "metadata": {},
   "outputs": [
    {
     "data": {
      "text/html": [
       "<div>\n",
       "<style scoped>\n",
       "    .dataframe tbody tr th:only-of-type {\n",
       "        vertical-align: middle;\n",
       "    }\n",
       "\n",
       "    .dataframe tbody tr th {\n",
       "        vertical-align: top;\n",
       "    }\n",
       "\n",
       "    .dataframe thead th {\n",
       "        text-align: right;\n",
       "    }\n",
       "</style>\n",
       "<table border=\"1\" class=\"dataframe\">\n",
       "  <thead>\n",
       "    <tr style=\"text-align: right;\">\n",
       "      <th></th>\n",
       "      <th>0</th>\n",
       "    </tr>\n",
       "  </thead>\n",
       "  <tbody>\n",
       "    <tr>\n",
       "      <th>0</th>\n",
       "      <td>(0, 19)</td>\n",
       "    </tr>\n",
       "    <tr>\n",
       "      <th>1</th>\n",
       "      <td>(0, 34)</td>\n",
       "    </tr>\n",
       "    <tr>\n",
       "      <th>2</th>\n",
       "      <td>(0, 43)</td>\n",
       "    </tr>\n",
       "    <tr>\n",
       "      <th>3</th>\n",
       "      <td>(0, 51)</td>\n",
       "    </tr>\n",
       "    <tr>\n",
       "      <th>4</th>\n",
       "      <td>(0, 55)</td>\n",
       "    </tr>\n",
       "    <tr>\n",
       "      <th>...</th>\n",
       "      <td>...</td>\n",
       "    </tr>\n",
       "    <tr>\n",
       "      <th>22388443</th>\n",
       "      <td>(17063, 16853)</td>\n",
       "    </tr>\n",
       "    <tr>\n",
       "      <th>22388444</th>\n",
       "      <td>(17063, 16855)</td>\n",
       "    </tr>\n",
       "    <tr>\n",
       "      <th>22388445</th>\n",
       "      <td>(17063, 16856)</td>\n",
       "    </tr>\n",
       "    <tr>\n",
       "      <th>22388446</th>\n",
       "      <td>(17063, 16861)</td>\n",
       "    </tr>\n",
       "    <tr>\n",
       "      <th>22388447</th>\n",
       "      <td>(17063, 16877)</td>\n",
       "    </tr>\n",
       "  </tbody>\n",
       "</table>\n",
       "<p>22388448 rows × 1 columns</p>\n",
       "</div>"
      ],
      "text/plain": [
       "                       0\n",
       "0                (0, 19)\n",
       "1                (0, 34)\n",
       "2                (0, 43)\n",
       "3                (0, 51)\n",
       "4                (0, 55)\n",
       "...                  ...\n",
       "22388443  (17063, 16853)\n",
       "22388444  (17063, 16855)\n",
       "22388445  (17063, 16856)\n",
       "22388446  (17063, 16861)\n",
       "22388447  (17063, 16877)\n",
       "\n",
       "[22388448 rows x 1 columns]"
      ]
     },
     "execution_count": 122,
     "metadata": {},
     "output_type": "execute_result"
    }
   ],
   "source": [
    "df = pandas.DataFrame(candidate_links)\n",
    "df"
   ]
  },
  {
   "cell_type": "code",
   "execution_count": 124,
   "metadata": {},
   "outputs": [
    {
     "data": {
      "text/html": [
       "<div>\n",
       "<style scoped>\n",
       "    .dataframe tbody tr th:only-of-type {\n",
       "        vertical-align: middle;\n",
       "    }\n",
       "\n",
       "    .dataframe tbody tr th {\n",
       "        vertical-align: top;\n",
       "    }\n",
       "\n",
       "    .dataframe thead th {\n",
       "        text-align: right;\n",
       "    }\n",
       "</style>\n",
       "<table border=\"1\" class=\"dataframe\">\n",
       "  <thead>\n",
       "    <tr style=\"text-align: right;\">\n",
       "      <th></th>\n",
       "      <th></th>\n",
       "      <th>0</th>\n",
       "    </tr>\n",
       "  </thead>\n",
       "  <tbody>\n",
       "    <tr>\n",
       "      <th rowspan=\"5\" valign=\"top\">0</th>\n",
       "      <th>19</th>\n",
       "      <td>0.0</td>\n",
       "    </tr>\n",
       "    <tr>\n",
       "      <th>34</th>\n",
       "      <td>0.0</td>\n",
       "    </tr>\n",
       "    <tr>\n",
       "      <th>43</th>\n",
       "      <td>0.0</td>\n",
       "    </tr>\n",
       "    <tr>\n",
       "      <th>51</th>\n",
       "      <td>0.0</td>\n",
       "    </tr>\n",
       "    <tr>\n",
       "      <th>55</th>\n",
       "      <td>0.0</td>\n",
       "    </tr>\n",
       "    <tr>\n",
       "      <th>...</th>\n",
       "      <th>...</th>\n",
       "      <td>...</td>\n",
       "    </tr>\n",
       "    <tr>\n",
       "      <th rowspan=\"5\" valign=\"top\">17063</th>\n",
       "      <th>16853</th>\n",
       "      <td>0.0</td>\n",
       "    </tr>\n",
       "    <tr>\n",
       "      <th>16855</th>\n",
       "      <td>0.0</td>\n",
       "    </tr>\n",
       "    <tr>\n",
       "      <th>16856</th>\n",
       "      <td>0.0</td>\n",
       "    </tr>\n",
       "    <tr>\n",
       "      <th>16861</th>\n",
       "      <td>0.0</td>\n",
       "    </tr>\n",
       "    <tr>\n",
       "      <th>16877</th>\n",
       "      <td>0.0</td>\n",
       "    </tr>\n",
       "  </tbody>\n",
       "</table>\n",
       "<p>22388448 rows × 1 columns</p>\n",
       "</div>"
      ],
      "text/plain": [
       "               0\n",
       "0     19     0.0\n",
       "      34     0.0\n",
       "      43     0.0\n",
       "      51     0.0\n",
       "      55     0.0\n",
       "...          ...\n",
       "17063 16853  0.0\n",
       "      16855  0.0\n",
       "      16856  0.0\n",
       "      16861  0.0\n",
       "      16877  0.0\n",
       "\n",
       "[22388448 rows x 1 columns]"
      ]
     },
     "execution_count": 124,
     "metadata": {},
     "output_type": "execute_result"
    }
   ],
   "source": [
    "c = recordlinkage.Compare()\n",
    "\n",
    "c.string('playerName', 'playerName', method='levenshtein', threshold=3)\n",
    "\n",
    "# The comparison vectors\n",
    "feature_vectors = c.compute(candidate_links, df_sports247, df_rivals)\n",
    "\n",
    "pandas.DataFrame(feature_vectors)"
   ]
  },
  {
   "cell_type": "code",
   "execution_count": 125,
   "metadata": {},
   "outputs": [
    {
     "data": {
      "text/plain": [
       "MultiIndex([], )"
      ]
     },
     "execution_count": 125,
     "metadata": {},
     "output_type": "execute_result"
    }
   ],
   "source": [
    "ecm = recordlinkage.ECMClassifier()\n",
    "ecm.fit_predict(feature_vectors)"
   ]
  },
  {
   "cell_type": "code",
   "execution_count": 126,
   "metadata": {},
   "outputs": [
    {
     "name": "stdout",
     "output_type": "stream",
     "text": [
      "<recordlinkage.classifiers.ECMClassifier object at 0x7f8e0fd82790>\n"
     ]
    }
   ],
   "source": [
    "print(ecm)"
   ]
  },
  {
   "cell_type": "code",
   "execution_count": 127,
   "metadata": {},
   "outputs": [
    {
     "ename": "TypeError",
     "evalue": "'ECMClassifier' object is not subscriptable",
     "output_type": "error",
     "traceback": [
      "\u001b[0;31m---------------------------------------------------------------------------\u001b[0m",
      "\u001b[0;31mTypeError\u001b[0m                                 Traceback (most recent call last)",
      "\u001b[0;32m<ipython-input-127-bdc3846840a6>\u001b[0m in \u001b[0;36m<module>\u001b[0;34m\u001b[0m\n\u001b[0;32m----> 1\u001b[0;31m \u001b[0mecm\u001b[0m\u001b[0;34m[\u001b[0m\u001b[0;36m0\u001b[0m\u001b[0;34m]\u001b[0m\u001b[0;34m\u001b[0m\u001b[0;34m\u001b[0m\u001b[0m\n\u001b[0m",
      "\u001b[0;31mTypeError\u001b[0m: 'ECMClassifier' object is not subscriptable"
     ]
    }
   ],
   "source": [
    "ecm[0]"
   ]
  },
  {
   "cell_type": "code",
   "execution_count": null,
   "metadata": {},
   "outputs": [],
   "source": []
  }
 ],
 "metadata": {
  "kernelspec": {
   "display_name": "Python 3",
   "language": "python",
   "name": "python3"
  },
  "language_info": {
   "codemirror_mode": {
    "name": "ipython",
    "version": 3
   },
   "file_extension": ".py",
   "mimetype": "text/x-python",
   "name": "python",
   "nbconvert_exporter": "python",
   "pygments_lexer": "ipython3",
   "version": "3.8.3"
  }
 },
 "nbformat": 4,
 "nbformat_minor": 4
}
