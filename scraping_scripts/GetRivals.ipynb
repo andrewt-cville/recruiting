{
 "cells": [
  {
   "cell_type": "code",
   "execution_count": 1,
   "metadata": {},
   "outputs": [],
   "source": [
    "from bs4 import BeautifulSoup\n",
    "import requests\n",
    "import lxml\n",
    "import time\n",
    "import json\n",
    "import os.path\n",
    "from os import path"
   ]
  },
  {
   "cell_type": "code",
   "execution_count": 2,
   "metadata": {},
   "outputs": [],
   "source": [
    "years = ['2015', '2016', '2017', '2018', '2019', '2020']\n",
    "headers={'user-agent':'Mozilla/5.0 (Macintosh; Intel Mac OS X 10_14_2) AppleWebKit/537.36 (KHTML, like Gecko) Chrome/73.0.3683.103 Safari/537.36'}\n",
    "confFolder = ['bigten']\n",
    "teams = ['ohiostate']\n",
    "#years = ['2018']\n",
    "#teams = ['westvirginia']"
   ]
  },
  {
   "cell_type": "code",
   "execution_count": null,
   "metadata": {},
   "outputs": [
    {
     "name": "stdout",
     "output_type": "stream",
     "text": [
      "https://ohiostate.rivals.com/commitments/football/2015\n",
      "https://ohiostate.rivals.com/commitments/football/2016\n",
      "https://ohiostate.rivals.com/commitments/football/2017\n",
      "https://ohiostate.rivals.com/commitments/football/2018\n"
     ]
    }
   ],
   "source": [
    "all_recruits = []\n",
    "for y in years:\n",
    "    for team in teams:\n",
    "        url = 'https://{}.rivals.com/commitments/football/{}'.format(team,y)\n",
    "        print (url)\n",
    "        r = requests.get(url, headers=headers)\n",
    "        gameSoup = BeautifulSoup(r.text, 'lxml')\n",
    "        with open(\"rivals\\\\\" + confFolder[0] + \"\\\\teams\\\\\" + team + \"_\" + y + \".html\", \"w\") as write_file:\n",
    "            write_file.write(r.text)\n",
    "        commitments = gameSoup.find(\"rv-commitments\")['prospects']\n",
    "        x = json.loads(commitments)\n",
    "\n",
    "        for commit in x:\n",
    "            if not (path.exists(\"rivals\\\\\" + confFolder[0] + \"\\\\recruits\\\\\" + str(commit['id']) + \"_\" + team + \"_\" + y + \".html\")):\n",
    "                #go to player page\n",
    "                recruitRequest = requests.get(commit['url'], headers=headers)\n",
    "                recruitSoup = BeautifulSoup(recruitRequest.text, 'lxml')\n",
    "                with open(\"rivals\\\\\" + confFolder[0] + \"\\\\recruits\\\\\" + str(commit['id']) + \"_\" + team + \"_\" + y + \".html\", \"w\") as write_file:\n",
    "                    write_file.write(recruitRequest.text)\n",
    "                time.sleep(6)"
   ]
  },
  {
   "cell_type": "code",
   "execution_count": null,
   "metadata": {},
   "outputs": [],
   "source": []
  }
 ],
 "metadata": {
  "kernelspec": {
   "display_name": "Python 3",
   "language": "python",
   "name": "python3"
  },
  "language_info": {
   "codemirror_mode": {
    "name": "ipython",
    "version": 3
   },
   "file_extension": ".py",
   "mimetype": "text/x-python",
   "name": "python",
   "nbconvert_exporter": "python",
   "pygments_lexer": "ipython3",
   "version": "3.8.3"
  }
 },
 "nbformat": 4,
 "nbformat_minor": 2
}
