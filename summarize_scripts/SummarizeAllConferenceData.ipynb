{
 "cells": [
  {
   "cell_type": "code",
   "execution_count": 87,
   "metadata": {},
   "outputs": [],
   "source": [
    "import json\n",
    "import pandas\n",
    "import time\n",
    "import os\n",
    "import csv\n",
    "from functools import reduce"
   ]
  },
  {
   "cell_type": "code",
   "execution_count": 88,
   "metadata": {},
   "outputs": [],
   "source": [
    "inputDir = '..//scraped_json//'\n",
    "outputDir = '..//summarized_json//'\n",
    "\n",
    "## Load the id config\n",
    "idConfig = json.loads(open('..//idConfig.json', \"r\").read())\n",
    "\n",
    "## Load the source file dict\n",
    "sourceFiles = json.loads(open('..//sourceFiles.json', \"r\").read())"
   ]
  },
  {
   "cell_type": "code",
   "execution_count": 89,
   "metadata": {},
   "outputs": [],
   "source": [
    "## If there are multiple files for any given dataset, then this function will combine all of those\n",
    "## records into a single dicti\n",
    "def mergeSourceFiles (source, outputDir, sourceFiles):\n",
    "    recordList = []\n",
    "    for file in sourceFiles[source]:  \n",
    "        file = json.loads(open(outputDir + file, \"r\", encoding=\"utf-8\").read())\n",
    "        for record in file:\n",
    "            recordList.append(record)\n",
    "    return recordList"
   ]
  },
  {
   "cell_type": "code",
   "execution_count": 90,
   "metadata": {},
   "outputs": [],
   "source": [
    "allConfData = mergeSourceFiles('allConf', inputDir, sourceFiles)"
   ]
  },
  {
   "cell_type": "code",
   "execution_count": 91,
   "metadata": {},
   "outputs": [],
   "source": [
    "## Clean up dirty names\n",
    "def mungeID(playerString):\n",
    "    return ''.join(e for e in playerString if e.isalnum()).lower().replace(\"jr.\", \"\").replace(\"st.\", \"state\")  "
   ]
  },
  {
   "cell_type": "code",
   "execution_count": 92,
   "metadata": {},
   "outputs": [],
   "source": [
    "def createNewID (fieldList, thisDict, fieldAgg):\n",
    "    finalID= ''\n",
    "    for i in thisDict:\n",
    "        for idx, val in enumerate(fieldList):\n",
    "            if (type(i[val]) is list):\n",
    "                i[val]= mungeID(i[val][0])\n",
    "                if (len(fieldList) -1 == idx):\n",
    "                    finalID += str(i[val]).strip('[]').strip(\"''\")\n",
    "            elif (type(val) is not list):\n",
    "                i[val] = mungeID(i[val])\n",
    "                if (len(fieldList) - 1 == idx):\n",
    "                    finalID += i[val]\n",
    "                else:\n",
    "                    finalID = i[val] + fieldAgg\n",
    "        i['ID'] = finalID\n",
    "        finalID=''"
   ]
  },
  {
   "cell_type": "code",
   "execution_count": 93,
   "metadata": {},
   "outputs": [],
   "source": [
    "def search(name, team, dataList):\n",
    "    return [element for element in dataList if (element['playerName'] == name and element['school'] == team)]\n",
    "\n",
    "def searchID(identifier, dataList):\n",
    "    return [element for element in dataList if (element['ID'] == identifier)]\n"
   ]
  },
  {
   "cell_type": "code",
   "execution_count": 95,
   "metadata": {},
   "outputs": [],
   "source": [
    "createNewID(idConfig['allConf'], allConfData, '_')"
   ]
  },
  {
   "cell_type": "code",
   "execution_count": 97,
   "metadata": {},
   "outputs": [],
   "source": [
    "finalOutput = []\n",
    "for x in allConfData:\n",
    "    if (len(searchID(x['ID'], finalOutput)) == 0):\n",
    "        playerList = search(x['playerName'], x['school'], allConfData)\n",
    "        finalPlayer = {}\n",
    "        finalPlayer['ID'] = x['ID']\n",
    "        finalPlayer['playerName'] = x['playerName']\n",
    "        finalPlayer['school'] = x['school']\n",
    "        year = 2021\n",
    "        coaches = media = []\n",
    "        for y in playerList:\n",
    "            coaches.append(y['coaches'])\n",
    "            media.append(y['media'])\n",
    "        if (min(coaches) != 0):\n",
    "            finalPlayer['coaches'] = min(coaches)\n",
    "        else:\n",
    "            finalPlayer['coaches'] = 0\n",
    "        if (min(media) != 0):\n",
    "            finalPlayer['media'] = min(media)\n",
    "        else:\n",
    "            finalPlayer['media'] = 0\n",
    "        finalOutput.append(finalPlayer)"
   ]
  },
  {
   "cell_type": "code",
   "execution_count": 98,
   "metadata": {},
   "outputs": [],
   "source": [
    "##Delete the columns I no longer care about after creating the ID\n",
    "##This list will need to expand after setting up blockers and truly linking\n",
    "for record in finalOutput:\n",
    "    del record['playerName']\n",
    "    del record['school']\n"
   ]
  },
  {
   "cell_type": "code",
   "execution_count": 99,
   "metadata": {},
   "outputs": [],
   "source": [
    "with open(outputDir + \"allConf.json\", \"w\", encoding=\"utf-8\") as write_file:\n",
    "                write_file.write(json.dumps(finalOutput))"
   ]
  },
  {
   "cell_type": "code",
   "execution_count": null,
   "metadata": {},
   "outputs": [],
   "source": []
  }
 ],
 "metadata": {
  "kernelspec": {
   "display_name": "Python 3",
   "language": "python",
   "name": "python3"
  },
  "language_info": {
   "codemirror_mode": {
    "name": "ipython",
    "version": 3
   },
   "file_extension": ".py",
   "mimetype": "text/x-python",
   "name": "python",
   "nbconvert_exporter": "python",
   "pygments_lexer": "ipython3",
   "version": "3.8.5"
  }
 },
 "nbformat": 4,
 "nbformat_minor": 4
}
