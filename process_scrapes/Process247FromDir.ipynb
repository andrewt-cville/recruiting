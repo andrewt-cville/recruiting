{
 "cells": [
  {
   "cell_type": "code",
   "execution_count": 1,
   "metadata": {},
   "outputs": [],
   "source": [
    "from bs4 import BeautifulSoup\n",
    "import requests\n",
    "import lxml\n",
    "import time\n",
    "import json\n",
    "import os\n",
    "from os import path\n",
    "import io"
   ]
  },
  {
   "cell_type": "code",
   "execution_count": 12,
   "metadata": {},
   "outputs": [],
   "source": [
    "#available conferences: bigtwelve, bigten, sec\n",
    "#don't need to include schools.json here cause schools['json'] = schools['id']\n",
    "conference = 'sec'\n",
    "teamDir = \"..//html//247//\" + conference + \"//teams//\"\n",
    "recruitDir = \"..//html//247//\" + conference + \"//recruits//\"\n",
    "prospectDir = \"..//html//247//\" + conference + \"//prospects//\""
   ]
  },
  {
   "cell_type": "code",
   "execution_count": 34,
   "metadata": {},
   "outputs": [
    {
     "name": "stdout",
     "output_type": "stream",
     "text": [
      "<li> <b>Natl.</b> <a href=\"https://247sports.com/Season/2015-Football/CompositeRecruitRankings/?InstitutionGroup=HighSchool\"> <strong>14</strong> </a> <a class=\"rank-history-link\" href=\"https://247sports.com/PlayerSport/Daylon-Mack-at-Gladewater-44093/RecruitRankHistory/\"> History </a> </li>\n"
     ]
    },
    {
     "ename": "AttributeError",
     "evalue": "'NoneType' object has no attribute 'text'",
     "output_type": "error",
     "traceback": [
      "\u001b[0;31m---------------------------------------------------------------------------\u001b[0m",
      "\u001b[0;31mAttributeError\u001b[0m                            Traceback (most recent call last)",
      "\u001b[0;32m<ipython-input-34-cb43c62a4299>\u001b[0m in \u001b[0;36m<module>\u001b[0;34m\u001b[0m\n\u001b[1;32m     76\u001b[0m                                     \u001b[0mplayer\u001b[0m\u001b[0;34m[\u001b[0m\u001b[0;34m'stateRank'\u001b[0m\u001b[0;34m]\u001b[0m \u001b[0;34m=\u001b[0m \u001b[0mz\u001b[0m\u001b[0;34m.\u001b[0m\u001b[0mfind\u001b[0m\u001b[0;34m(\u001b[0m\u001b[0;34m\"strong\"\u001b[0m\u001b[0;34m)\u001b[0m\u001b[0;34m.\u001b[0m\u001b[0mtext\u001b[0m\u001b[0;34m\u001b[0m\u001b[0;34m\u001b[0m\u001b[0m\n\u001b[1;32m     77\u001b[0m                                 \u001b[0;32melse\u001b[0m\u001b[0;34m:\u001b[0m\u001b[0;34m\u001b[0m\u001b[0;34m\u001b[0m\u001b[0m\n\u001b[0;32m---> 78\u001b[0;31m                                     \u001b[0mplayer\u001b[0m\u001b[0;34m[\u001b[0m\u001b[0;34m'positionRank'\u001b[0m\u001b[0;34m]\u001b[0m \u001b[0;34m=\u001b[0m \u001b[0mz\u001b[0m\u001b[0;34m.\u001b[0m\u001b[0mfind\u001b[0m\u001b[0;34m(\u001b[0m\u001b[0;34m\"strong\"\u001b[0m\u001b[0;34m)\u001b[0m\u001b[0;34m.\u001b[0m\u001b[0mtext\u001b[0m\u001b[0;34m\u001b[0m\u001b[0;34m\u001b[0m\u001b[0m\n\u001b[0m\u001b[1;32m     79\u001b[0m                                     \u001b[0mplayer\u001b[0m\u001b[0;34m[\u001b[0m\u001b[0;34m'stateRank'\u001b[0m\u001b[0;34m]\u001b[0m \u001b[0;34m=\u001b[0m \u001b[0mz\u001b[0m\u001b[0;34m.\u001b[0m\u001b[0mfind\u001b[0m\u001b[0;34m(\u001b[0m\u001b[0;34m\"strong\"\u001b[0m\u001b[0;34m)\u001b[0m\u001b[0;34m.\u001b[0m\u001b[0mtext\u001b[0m\u001b[0;34m\u001b[0m\u001b[0;34m\u001b[0m\u001b[0m\n\u001b[1;32m     80\u001b[0m                     \u001b[0;32melif\u001b[0m \u001b[0;34m(\u001b[0m\u001b[0mcount\u001b[0m \u001b[0;34m==\u001b[0m \u001b[0;36m1\u001b[0m\u001b[0;34m)\u001b[0m\u001b[0;34m:\u001b[0m\u001b[0;34m\u001b[0m\u001b[0;34m\u001b[0m\u001b[0m\n",
      "\u001b[0;31mAttributeError\u001b[0m: 'NoneType' object has no attribute 'text'"
     ]
    }
   ],
   "source": [
    "all_recruits = []\n",
    "\n",
    "for file in os.listdir(teamDir):\n",
    "    gameSoup = BeautifulSoup(open(teamDir + file, \"r\", encoding='windows-1252').read(), 'lxml')\n",
    "    starter = \"ri-page__list-item\"\n",
    "    team = file.split('_')[0]\n",
    "    y = (file.split('_')[1]).split('.')[0]\n",
    "    for x in gameSoup.find_all(\"li\", class_=\"ri-page__list-item\"):\n",
    "        #append player to sqlinsert list\n",
    "        player={}\n",
    "        player_status = \"\"\n",
    "        if (x.find(\"p\", class_=\"commit-date\") is not None):\n",
    "            player_status = x.find(\"p\", class_=\"commit-date\").text\n",
    "        if (player_status.strip() == 'Enrolled' or player_status.strip() == 'Signed'):\n",
    "            player['school'] = team\n",
    "            player['year'] = y\n",
    "            #Name\n",
    "            if (x.find(\"a\", class_=\"ri-page__name-link\") is not None):\n",
    "                player['playerName'] = x.find(\"a\", class_=\"ri-page__name-link\").text\n",
    "            #School/CityState\n",
    "            if (x.find(\"span\", class_=\"meta\") is not None):\n",
    "                locationInfoRaw = x.find(\"span\", class_=\"meta\")\n",
    "                locationInfoList = locationInfoRaw.text.split(\"(\")\n",
    "                player['highSchool'] = (locationInfoList[0].strip())\n",
    "                cityState = locationInfoList[1].split(', ')\n",
    "                if (len(cityState) > 1):\n",
    "                    #print(cityState)\n",
    "                    state = cityState[1].strip()\n",
    "                    #print(state.rstrip(')'))\n",
    "                    player['city'] = (cityState[0].strip())\n",
    "                    player['state'] = (state.rstrip(')'))\n",
    "                else:\n",
    "                    player['city'] = \"None\"\n",
    "                    player['state'] = \"None\"\n",
    "            #Position\n",
    "            if (x.find(\"div\", class_=\"position\") is not None):\n",
    "                player['position'] = ((x.find(\"div\", class_=\"position\").text).strip())\n",
    "            #Height/Weight\n",
    "            if (x.find(\"div\", class_=\"metrics\") is not None):\n",
    "                heightWeight = x.find(\"div\", class_=\"metrics\").text.strip()\n",
    "                height = (heightWeight.split(' / '))[0]\n",
    "                inchHeightPre = height.split('-')\n",
    "                if (inchHeightPre[0] != ''):\n",
    "                    inchHeight = int(inchHeightPre[0])*12 + float(inchHeightPre[1])\n",
    "                else:\n",
    "                    inchHeight = '0.0'\n",
    "                weight = (heightWeight.split(' / '))[1]\n",
    "                if (weight == '-'):\n",
    "                    weight = '0'\n",
    "                player['height'] = (inchHeight)\n",
    "                player['weight'] = (weight)\n",
    "            \n",
    "            ## We are going to get rankings data from the prospect page, but nothing else\n",
    "            prospectFile = prospectDir + player['playerName'] + \"_\" + player['school'] + \"_secondhop_\" + player['year'] + \".html\"\n",
    "            if (path.isfile(prospectFile)):\n",
    "                prospectSoup = BeautifulSoup(open(prospectFile, \"r\", encoding='utf8').read(), 'lxml')\n",
    "                ratingsSection = prospectSoup.find_all(\"section\", class_=\"rankings-section\")\n",
    "                count = 0\n",
    "                for rating in ratingsSection:\n",
    "                    if (count == 0):\n",
    "                        #Composite Rating\n",
    "                        if (rating.find(\"div\", class_=\"rank-block\") is not None):\n",
    "                            player['compRating'] = (rating.find(\"div\", class_=\"rank-block\").text)\n",
    "                        #Composite Stars\n",
    "                        ratingChildren = rating.find_all(\"span\", class_='icon-starsolid yellow')\n",
    "                        i = 0\n",
    "                        for child in ratingChildren:\n",
    "                            i = i + 1\n",
    "                        player['compStars'] = (i)\n",
    "                        for y in rating.find_all(\"li\", class_=None):\n",
    "                            print(y)\n",
    "                            for z in y.find_all(\"b\", class_=None):\n",
    "                                if (z == 'Natl.'):\n",
    "                                    player['nationalRank'] = z.find(\"strong\").text\n",
    "                                    player['positionRank'] = z.find(\"strong\").text\n",
    "                                    player['stateRank'] = z.find(\"strong\").text\n",
    "                                else:\n",
    "                                    player['positionRank'] = z.find(\"strong\").text\n",
    "                                    player['stateRank'] = z.find(\"strong\").text\n",
    "                    elif (count == 1):\n",
    "                        #247 Rating\n",
    "                        if (x.find(\"div\", class_=\"rank-block\") is not None):\n",
    "                            player['247Rating'] = (x.find(\"div\", class_=\"rank-block\").text)\n",
    "                        #Stars\n",
    "                        ratingChildren = x.find_all(\"span\", class_='icon-starsolid yellow')\n",
    "                        i = 0\n",
    "                        for child in ratingChildren:\n",
    "                            i = i + 1\n",
    "                        player['247Stars'] = (i)\n",
    "                        #247 Rankings are stupid\n",
    "                    count += 1\n",
    "        if player:\n",
    "            all_recruits.append(player)  \n",
    "print(all_recruits)"
   ]
  },
  {
   "cell_type": "code",
   "execution_count": 23,
   "metadata": {},
   "outputs": [],
   "source": [
    "with open(\"..//scraped_json//247_bigtwelve.json\", \"w\") as write_file:\n",
    "    json.dump(all_recruits, write_file)"
   ]
  },
  {
   "cell_type": "code",
   "execution_count": null,
   "metadata": {},
   "outputs": [],
   "source": [
    "#National Rank\n",
    "            if (x.find(\"a\", class_=\"natrank\") is not None):\n",
    "                player['compNationalRank'] = ((x.find(\"a\", class_=\"natrank\").text).strip())\n",
    "            #Position Rank\n",
    "            if (x.find(\"a\", class_=\"posrank\") is not None):\n",
    "                player['compPositionRank'] = ((x.find(\"a\", class_=\"posrank\").text).strip())\n",
    "            #State Rank\n",
    "            if (x.find(\"a\", class_=\"sttrank\") is not None):\n",
    "                player['compStateRank'] = ((x.find(\"a\", class_=\"sttrank\").text).strip())"
   ]
  }
 ],
 "metadata": {
  "kernelspec": {
   "display_name": "Python 3",
   "language": "python",
   "name": "python3"
  },
  "language_info": {
   "codemirror_mode": {
    "name": "ipython",
    "version": 3
   },
   "file_extension": ".py",
   "mimetype": "text/x-python",
   "name": "python",
   "nbconvert_exporter": "python",
   "pygments_lexer": "ipython3",
   "version": "3.8.3"
  }
 },
 "nbformat": 4,
 "nbformat_minor": 2
}
