{
 "cells": [
  {
   "cell_type": "code",
   "execution_count": 1,
   "metadata": {},
   "outputs": [],
   "source": [
    "from bs4 import BeautifulSoup\n",
    "import requests\n",
    "import lxml\n",
    "import time\n",
    "import os\n",
    "import json"
   ]
  },
  {
   "cell_type": "code",
   "execution_count": 2,
   "metadata": {},
   "outputs": [],
   "source": [
    "teamDir = 'wikipedia\\\\allconference\\\\sec\\\\'"
   ]
  },
  {
   "cell_type": "code",
   "execution_count": 3,
   "metadata": {},
   "outputs": [],
   "source": [
    "all_players = []\n",
    "for file in os.listdir(teamDir):\n",
    "    wikiSoup = BeautifulSoup(open(teamDir + file, \"r\", encoding=\"utf-8\").read(), 'lxml')\n",
    "    y = file.split('.')[0]\n",
    "    for x in wikiSoup.find_all(\"li\", class_=\"\"):\n",
    "        if ((\",\") in x.text and (\"(\") in x.text and (\")\") in x.text and (\"{\") not in x.text \\\n",
    "            and (\"Archived\") not in x.text and (\"Gridiron\") not in x.text and (\"edited\") not in x.text \\\n",
    "            and (\"all-purpose\") not in x.text and (\"Football\") not in x.text and (\"Coaches\")):\n",
    "            player = {}\n",
    "            playerInfo = x.text.split(\",\", 1)\n",
    "            #year\n",
    "            player['year'] = y\n",
    "            #name\n",
    "            player['playerName'] = playerInfo[0]\n",
    "            #schoolAndAwardsFX\n",
    "            playerSAF = playerInfo[1].split(\"(\", 1)\n",
    "            #school\n",
    "            player['school'] = playerSAF[0].strip()\n",
    "            #AwardsFX\n",
    "            if (\",\" in playerSAF[1]):\n",
    "                playerAwards = playerSAF[1].split(\",\")\n",
    "            if (\";\" in playerSAF[1]):\n",
    "                playerAwards = playerSAF[1].split(\",\")\n",
    "            if (\"AP\" in playerAwards[0] and len(playerAwards)> 1):\n",
    "                playerCoaches = playerAwards[0].split(\"-\", 1)\n",
    "                player['coaches'] = playerCoaches[1][:1]              \n",
    "            elif (\"AP\" in playerAwards[0] and len(playerAwards) == 1):\n",
    "                playerCoaches = playerAwards[0].split(\"-\", 1)\n",
    "                player['coaches'] = playerCoaches[1][:-1] \n",
    "                player['media'] = \"0\"\n",
    "            elif (\"Coaches\" in playerAwards[0]):\n",
    "                playerMedia = playerAwards[0].split(\"-\", 1)\n",
    "                player['coaches'] = \"0\"\n",
    "                player['media'] = playerMedia[1][:1]\n",
    "            if (len(playerAwards) > 1 and (\"Coaches\" in playerAwards[1])):\n",
    "                playerMedia = playerAwards[1].split(\"-\", 1)\n",
    "                player['media'] = playerMedia[1][:1]\n",
    "            else:\n",
    "                player['media'] = \"0\"\n",
    "            all_players.append(player)   "
   ]
  },
  {
   "cell_type": "code",
   "execution_count": 5,
   "metadata": {},
   "outputs": [],
   "source": [
    "with open(\"output_files\\\\SECAllConf.json\", \"w\") as write_file:\n",
    "    json.dump(all_players, write_file)"
   ]
  },
  {
   "cell_type": "code",
   "execution_count": null,
   "metadata": {},
   "outputs": [],
   "source": []
  }
 ],
 "metadata": {
  "kernelspec": {
   "display_name": "Python 3",
   "language": "python",
   "name": "python3"
  },
  "language_info": {
   "codemirror_mode": {
    "name": "ipython",
    "version": 3
   },
   "file_extension": ".py",
   "mimetype": "text/x-python",
   "name": "python",
   "nbconvert_exporter": "python",
   "pygments_lexer": "ipython3",
   "version": "3.8.5"
  }
 },
 "nbformat": 4,
 "nbformat_minor": 2
}
