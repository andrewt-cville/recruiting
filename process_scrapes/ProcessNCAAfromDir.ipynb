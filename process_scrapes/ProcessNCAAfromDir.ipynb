{
 "cells": [
  {
   "cell_type": "code",
   "execution_count": 2,
   "metadata": {},
   "outputs": [],
   "source": [
    "from bs4 import BeautifulSoup\n",
    "import requests\n",
    "import lxml\n",
    "import time\n",
    "import json\n",
    "import os\n",
    "from os import path\n",
    "import io"
   ]
  },
  {
   "cell_type": "code",
   "execution_count": 3,
   "metadata": {},
   "outputs": [],
   "source": [
    "#available conferences: bigtwelve, bigten, sec\n",
    "#don't need to include schools.json here cause schools['json'] = schools['id']\n",
    "conference = 'bigten'\n",
    "rosterDir = \"..//html//ncaa//\" + conference + \"//rosters//\""
   ]
  },
  {
   "cell_type": "code",
   "execution_count": 27,
   "metadata": {},
   "outputs": [
    {
     "name": "stdout",
     "output_type": "stream",
     "text": [
      "[{'name': 'Jersey\\nPlayer\\nPos\\nYr\\nGP\\nGS', 'position': '88\\nAlexander, Jalen \\nDL\\nFr\\n0\\n0', 'gamesPlayed': '6D\\nAniebonam, Jesse\\nDL\\nSr\\n12\\n12', 'gamesStarted': '39\\nBaca, Steve\\nLB\\nJr\\n1\\n0'}, {'name': 'Jersey\\nPlayer\\nPos\\nYr\\nGP\\nGS', 'position': '5L\\nAdams, Nate\\nOL\\nFr\\n4\\n0', 'gamesPlayed': '73\\nAgaruwa, Banks\\nOL\\nFr\\n0\\n0', 'gamesStarted': '68\\nAltamirano, Silvano\\nOL\\nSr\\n13\\n13'}, {'name': 'Jersey\\nPlayer\\nPos\\nYr\\nGP\\nGS', 'position': '5L\\nAdams, Nate\\nOL\\nSo\\n11\\n0', 'gamesPlayed': '34\\nAshiru, Jefferson\\nLB\\nSr\\n5\\n5', 'gamesStarted': '3\\nBarry-Pollock, Milan\\nDB\\nJr\\n0\\n0'}, {'name': 'Jersey\\nPlayer\\nPos\\nYr\\nGP\\nGS', 'position': '88\\nAlexander, Jalen \\nDL\\nSo\\n1\\n0', 'gamesPlayed': '36\\nAndrews, Cortez\\nLB\\nFr\\n6\\n0', 'gamesStarted': '33\\nBanks, Deonte\\nDB\\nFr\\n11\\n8'}, {'name': 'Jersey\\nPlayer\\nPos\\nYr\\nGP\\nGS', 'position': '80\\nAdams, Daniel\\nWR\\nSo\\n5\\n0', 'gamesPlayed': \"70\\nArnett, De'Onte\\nOL\\nSr\\n13\\n13\", 'gamesStarted': '91\\nBowers, Keith\\nDL\\nJr\\n13\\n9'}, {'name': 'Jersey\\nPlayer\\nPos\\nYr\\nGP\\nGS', 'position': '88\\nAlexander, Jalen \\nDL\\nJr\\n0\\n0', 'gamesPlayed': '30\\nAnderson, Daniel \\nWR\\nSr\\n0\\n0', 'gamesStarted': '54\\nAnderson, Spencer\\nOL\\nSo\\n5\\n5'}, {'name': 'Jersey\\nPlayer\\nPos\\nYr\\nGP\\nGS', 'position': '56\\nAdams, Nate\\nOL\\nJr\\n0\\n0', 'gamesPlayed': '39\\nBaca, Steve\\nLB\\nFr\\n0\\n0', 'gamesStarted': '80\\nBarnes, Noah\\nTE\\nFr\\n0\\n0'}, {'name': 'Jersey\\nPlayer\\nPos\\nYr\\nGP\\nGS', 'position': '5A\\nAdams, Nate\\nLS\\nSr\\n0\\n0', 'gamesPlayed': '39\\nBaca, Steve\\nLB\\nSo\\n0\\n0', 'gamesStarted': '80\\nBarnes, Noah\\nTE\\nSo\\n8\\n0'}]\n"
     ]
    }
   ],
   "source": [
    "playerData = []\n",
    "for file in os.listdir(rosterDir):\n",
    "    gameSoup = BeautifulSoup(open(rosterDir + file, \"r\", encoding='utf-8').read(), 'lxml')\n",
    "    count = 0\n",
    "    player={}\n",
    "    for x in gameSoup.find_all(\"tr\"): \n",
    "        #append player to sqlinsert list\n",
    "        if (count == 1):\n",
    "            player['name'] = x.text.strip()\n",
    "        elif (count == 2):\n",
    "            player['position'] = x.text.strip()\n",
    "        elif (count == 4):\n",
    "            player['gamesPlayed'] = x.text.strip()\n",
    "        elif (count == 5):\n",
    "            player['gamesStarted'] = x.text.strip()\n",
    "        count = count + 1\n",
    "    playerData.append(player)\n",
    "print(playerData)\n"
   ]
  },
  {
   "cell_type": "code",
   "execution_count": null,
   "metadata": {},
   "outputs": [],
   "source": []
  }
 ],
 "metadata": {
  "kernelspec": {
   "display_name": "Python 3",
   "language": "python",
   "name": "python3"
  },
  "language_info": {
   "codemirror_mode": {
    "name": "ipython",
    "version": 3
   },
   "file_extension": ".py",
   "mimetype": "text/x-python",
   "name": "python",
   "nbconvert_exporter": "python",
   "pygments_lexer": "ipython3",
   "version": "3.8.5"
  }
 },
 "nbformat": 4,
 "nbformat_minor": 4
}
