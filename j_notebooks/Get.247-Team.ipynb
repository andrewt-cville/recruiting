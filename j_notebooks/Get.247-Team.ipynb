{
 "cells": [
  {
   "cell_type": "markdown",
   "metadata": {},
   "source": [
    "# Get 247Sports Team Commitments"
   ]
  },
  {
   "cell_type": "code",
   "execution_count": null,
   "metadata": {},
   "outputs": [],
   "source": [
    "#hide\n",
    "from bs4 import BeautifulSoup\n",
    "import requests\n",
    "import lxml\n",
    "import time\n",
    "import core_constants as cc"
   ]
  },
  {
   "cell_type": "code",
   "execution_count": null,
   "metadata": {},
   "outputs": [],
   "source": [
    "years = cc.get_defYears()\n",
    "headers= cc.get_header()\n",
    "schoolsList = cc.get_schoolsList()\n",
    "\n",
    "conf = 'acc'"
   ]
  },
  {
   "cell_type": "markdown",
   "metadata": {},
   "source": [
    "## Cycle through each school by conference"
   ]
  },
  {
   "cell_type": "code",
   "execution_count": null,
   "metadata": {},
   "outputs": [],
   "source": [
    "#Starting by just getting the team page\n",
    "#But you are going to have to go another two layers down\n",
    "\n",
    "all_recruits = []\n",
    "for y in years:\n",
    "    for school in schoolsList:\n",
    "        if (school['conference'][0] == conf):\n",
    "            url = cc.create_url247('team', school['247'], y)\n",
    "            #r = requests.get(url, headers=headers)\n",
    "            #with open(\"..//html//247//\" + conf + \"//teams//\" + school['247'] + \"_\" + y + \".html\", \"w\") as write_file:\n",
    "            #    write_file.write(r.text)\n",
    "            print(school['247'] + ': ' + str(y))\n",
    "            time.sleep(4)"
   ]
  },
  {
   "cell_type": "code",
   "execution_count": null,
   "metadata": {},
   "outputs": [],
   "source": []
  }
 ],
 "metadata": {
  "kernelspec": {
   "display_name": "Python 3",
   "language": "python",
   "name": "python3"
  }
 },
 "nbformat": 4,
 "nbformat_minor": 2
}
