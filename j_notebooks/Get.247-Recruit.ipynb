{
 "cells": [
  {
   "cell_type": "code",
   "execution_count": null,
   "metadata": {},
   "outputs": [],
   "source": [
    "#default_exp core"
   ]
  },
  {
   "cell_type": "code",
   "execution_count": null,
   "metadata": {},
   "outputs": [],
   "source": [
    "#hide\n",
    "from bs4 import BeautifulSoup\n",
    "import requests\n",
    "import lxml\n",
    "import time\n",
    "import json\n",
    "import os\n",
    "import core_constants as cc"
   ]
  },
  {
   "cell_type": "markdown",
   "metadata": {},
   "source": [
    "# Get the Recruit/Player Profile from 247Sports"
   ]
  },
  {
   "cell_type": "code",
   "execution_count": null,
   "metadata": {},
   "outputs": [],
   "source": [
    "#This goes thru a full folder as defined by the conf variable\n",
    "headers= cc.get_header()\n",
    "conf = 'acc'\n",
    "teamDir = cc.get_htmlDir('247', conf, 'teams')"
   ]
  },
  {
   "cell_type": "markdown",
   "metadata": {},
   "source": [
    "## Scrape local file and request new file\n",
    "> This grabs the URL we need to request from the team.html file that was already stored.  Then saves the new file."
   ]
  },
  {
   "cell_type": "code",
   "execution_count": null,
   "metadata": {},
   "outputs": [],
   "source": [
    "for file in os.listdir(teamDir):\n",
    "    gameSoup = BeautifulSoup(open(teamDir + file, \"r\", encoding='windows-1252').read(), 'lxml')\n",
    "    starter = \"ri-page__list-item\"\n",
    "    team = file.split('_')[0]\n",
    "    y = (file.split('_')[1]).split('.')[0]\n",
    "    for x in gameSoup.find_all(\"li\", class_=\"ri-page__list-item\"):\n",
    "        #append player to sqlinsert list\n",
    "        player={}\n",
    "        player_status = \"\"\n",
    "        if (x.find(\"p\", class_=\"commit-date\") is not None):\n",
    "            player_status = x.find(\"p\", class_=\"commit-date\").text\n",
    "        if (player_status.strip() == 'Enrolled' or player_status.strip() == 'Signed'):\n",
    "            #URL\n",
    "            if (x.find(\"a\", class_=\"ri-page__name-link\") is not None):\n",
    "                name = x.find(\"a\", class_=\"ri-page__name-link\").text\n",
    "                url = \"https:\" + x.find(\"a\", class_=\"ri-page__name-link\")['href']\n",
    "                req = requests.get(url, headers=headers)\n",
    "                with open(\"..//html//247//\" + conf + \"//recruits//\" + name + \"_\" + team + \"_firsthop_\" + y + \".html\", \"w\") as write_file:\n",
    "                    write_file.write(req.text)\n",
    "                print(team + ': ' + name + '-' + y)\n",
    "                time.sleep(4)                "
   ]
  },
  {
   "cell_type": "code",
   "execution_count": null,
   "metadata": {},
   "outputs": [],
   "source": []
  }
 ],
 "metadata": {
  "kernelspec": {
   "display_name": "Python 3",
   "language": "python",
   "name": "python3"
  }
 },
 "nbformat": 4,
 "nbformat_minor": 2
}
