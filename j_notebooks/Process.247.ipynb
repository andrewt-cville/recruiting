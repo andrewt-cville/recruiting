{
 "cells": [
  {
   "cell_type": "code",
   "execution_count": null,
   "metadata": {},
   "outputs": [],
   "source": [
    "#default_exp core"
   ]
  },
  {
   "cell_type": "code",
   "execution_count": null,
   "metadata": {},
   "outputs": [],
   "source": [
    "#hide\n",
    "from bs4 import BeautifulSoup\n",
    "import requests\n",
    "import lxml\n",
    "import time\n",
    "import json\n",
    "import os\n",
    "from os import path\n",
    "import io\n",
    "import core_constants as cc"
   ]
  },
  {
   "cell_type": "markdown",
   "metadata": {},
   "source": [
    "# Process 247Sports Recruits & Prospects"
   ]
  },
  {
   "cell_type": "markdown",
   "metadata": {},
   "source": [
    "Set the Conference you want to process as well as the folders you need"
   ]
  },
  {
   "cell_type": "code",
   "execution_count": null,
   "metadata": {},
   "outputs": [],
   "source": [
    "#to see available conferences, uncomment out the below line and run:\n",
    "#cc.get_availableConferences()\n",
    "conference = 'acc'\n",
    "\n",
    "teamDir = cc.get_htmlDir('247', conference, 'teams')\n",
    "recruitDir = cc.get_htmlDir('247', conference, 'recruits')\n",
    "prospectDir = cc.get_htmlDir('247', conference, 'prospects')\n"
   ]
  },
  {
   "cell_type": "markdown",
   "metadata": {},
   "source": [
    "## Processing Engine\n",
    "> This cycles through each player (recruit) and prospect profile to build our complete 247 player record"
   ]
  },
  {
   "cell_type": "code",
   "execution_count": null,
   "metadata": {},
   "outputs": [],
   "source": [
    "all_recruits = []\n",
    "\n",
    "for file in os.listdir(teamDir):\n",
    "    gameSoup = BeautifulSoup(open(teamDir + file, \"r\", encoding='utf-8').read(), 'lxml')\n",
    "    starter = \"ri-page__list-item\"\n",
    "    team = file.split('_')[0]\n",
    "    y = (file.split('_')[1]).split('.')[0]\n",
    "    for x in gameSoup.find_all(\"li\", class_=\"ri-page__list-item\"):\n",
    "        #append player to sqlinsert list\n",
    "        player={}\n",
    "        player_status = \"\"\n",
    "        if (x.find(\"p\", class_=\"commit-date\") is not None):\n",
    "            player_status = x.find(\"p\", class_=\"commit-date\").text\n",
    "        if (player_status.strip() == 'Enrolled' or player_status.strip() == 'Signed'):\n",
    "            player['school'] = team\n",
    "            player['year'] = y\n",
    "            #Name\n",
    "            if (x.find(\"a\", class_=\"ri-page__name-link\") is not None):\n",
    "                player['playerName'] = x.find(\"a\", class_=\"ri-page__name-link\").text\n",
    "            #School/CityState\n",
    "            if (x.find(\"span\", class_=\"meta\") is not None):\n",
    "                locationInfoRaw = x.find(\"span\", class_=\"meta\")\n",
    "                locationInfoList = locationInfoRaw.text.split(\"(\")\n",
    "                player['highSchool'] = (locationInfoList[0].strip())\n",
    "                cityState = locationInfoList[1].split(', ')\n",
    "                if (len(cityState) > 1):\n",
    "                    #print(cityState)\n",
    "                    state = cityState[1].strip()\n",
    "                    #print(state.rstrip(')'))\n",
    "                    player['city'] = (cityState[0].strip())\n",
    "                    player['state'] = (state.rstrip(')'))\n",
    "                else:\n",
    "                    player['city'] = \"None\"\n",
    "                    player['state'] = \"None\"\n",
    "            #Position\n",
    "            if (x.find(\"div\", class_=\"position\") is not None):\n",
    "                player['position'] = ((x.find(\"div\", class_=\"position\").text).strip())\n",
    "            #Height/Weight\n",
    "            if (x.find(\"div\", class_=\"metrics\") is not None):\n",
    "                heightWeight = x.find(\"div\", class_=\"metrics\").text.strip()\n",
    "                height = (heightWeight.split(' / '))[0]\n",
    "                inchHeightPre = height.split('-')\n",
    "                if (inchHeightPre[0] != ''):\n",
    "                    inchHeight = int(inchHeightPre[0])*12 + float(inchHeightPre[1])\n",
    "                else:\n",
    "                    inchHeight = '0.0'\n",
    "                weight = (heightWeight.split(' / '))[1]\n",
    "                if (weight == '-'):\n",
    "                    weight = '0'\n",
    "                player['height'] = (inchHeight)\n",
    "                player['weight'] = (weight)\n",
    "            #Getting composite rankings from the class page because of the prospect link, in some cases,\n",
    "            #actually goes to the JUCO page and as a result the JUCO rankings.\n",
    "            \n",
    "            #Composite Rating\n",
    "            if (x.find(\"span\", class_=\"score\") is not None):\n",
    "                player['compRating'] = (x.find(\"span\", class_=\"score\").text)\n",
    "            #Composite Stars\n",
    "            ratingChildren = x.find_all(\"span\", class_='icon-starsolid yellow')\n",
    "            i = 0\n",
    "            for child in ratingChildren:\n",
    "                i = i + 1\n",
    "            player['compStars'] = (i)\n",
    "            #Composite National Rank\n",
    "            if (x.find(\"a\", class_=\"natrank\") is not None):\n",
    "                player['nationalRank'] = ((x.find(\"a\", class_=\"natrank\").text).strip())\n",
    "            #Composite Position Rank\n",
    "            if (x.find(\"a\", class_=\"posrank\") is not None):\n",
    "                player['positionRank'] = ((x.find(\"a\", class_=\"posrank\").text).strip())\n",
    "            #Composite State Rank\n",
    "            if (x.find(\"a\", class_=\"sttrank\") is not None):\n",
    "                player['stateRank'] = ((x.find(\"a\", class_=\"sttrank\").text).strip())\n",
    "            \n",
    "            ## We are going to get 247 rankings data from the prospect page, but nothing else\n",
    "            prospectFile = prospectDir + player['playerName'] + \"_\" + player['school'] + \"_secondhop_\" + player['year'] + \".html\"\n",
    "            if (path.isfile(prospectFile)):\n",
    "                prospectSoup = BeautifulSoup(open(prospectFile, \"r\", encoding='utf8').read(), 'lxml')\n",
    "                ratingsSection = prospectSoup.find_all(\"section\", class_=\"rankings-section\")\n",
    "                count = 0\n",
    "                for rating in ratingsSection:\n",
    "                    if (count == 1):\n",
    "                        #247 Rating\n",
    "                        if (rating.find(\"div\", class_=\"rank-block\") is not None):\n",
    "                            player['247Rating'] = (rating.find(\"div\", class_=\"rank-block\").text)\n",
    "                        #Stars\n",
    "                        ratingChildren = rating.find_all(\"span\", class_='icon-starsolid yellow')\n",
    "                        i = 0\n",
    "                        for child in ratingChildren:\n",
    "                            i = i + 1\n",
    "                        player['247Stars'] = (i)\n",
    "                        #247 Rankings are stupid\n",
    "                        ratingValues = rating.find_all(\"li\", class_=None)\n",
    "                        ratingColunt = 0\n",
    "                        if (len(ratingValues) >= 3):\n",
    "                            player['247nationalRank'] = ratingValues[0].find(\"strong\").text\n",
    "                            player['247positionRank'] = ratingValues[1].find(\"strong\").text\n",
    "                            player['247stateRank'] = ratingValues[2].find(\"strong\").text   \n",
    "                        elif (len(ratingValues) == 2):\n",
    "                            if (ratingValues[0].find(\"strong\") is not None):\n",
    "                                player['247positionRank'] = ratingValues[0].find(\"strong\").text\n",
    "                            if (ratingValues[1].find(\"strong\") is not None):\n",
    "                                player['247stateRank'] = ratingValues[1].find(\"strong\").text\n",
    "                        else:\n",
    "                            print(\"Error: \" + player['playerName'])\n",
    "                    count += 1\n",
    "        if player:\n",
    "            all_recruits.append(player)  "
   ]
  },
  {
   "cell_type": "code",
   "execution_count": null,
   "metadata": {},
   "outputs": [],
   "source": [
    "cc.save_records('scraped_json', '247_' + conference + '.json', all_recruits)"
   ]
  },
  {
   "cell_type": "code",
   "execution_count": null,
   "metadata": {},
   "outputs": [],
   "source": []
  }
 ],
 "metadata": {
  "kernelspec": {
   "display_name": "Python 3",
   "language": "python",
   "name": "python3"
  }
 },
 "nbformat": 4,
 "nbformat_minor": 2
}
