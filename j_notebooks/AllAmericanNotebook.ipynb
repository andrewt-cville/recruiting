{
 "cells": [
  {
   "cell_type": "code",
   "execution_count": null,
   "metadata": {},
   "outputs": [],
   "source": [
    "#hide\n",
    "\n",
    "#default_exp index\n",
    "from nbdev.showdoc import show_doc"
   ]
  },
  {
   "cell_type": "code",
   "execution_count": null,
   "metadata": {},
   "outputs": [],
   "source": [
    "#export\n",
    "from bs4 import BeautifulSoup\n",
    "import requests\n",
    "import lxml\n",
    "import time\n",
    "import json"
   ]
  },
  {
   "cell_type": "markdown",
   "metadata": {},
   "source": [
    "# Get & Process All American data from Wikipedia"
   ]
  },
  {
   "cell_type": "code",
   "execution_count": null,
   "metadata": {},
   "outputs": [],
   "source": [
    "#export\n",
    "headers={'user-agent':'Mozilla/5.0 (Macintosh; Intel Mac OS X 10_14_2) AppleWebKit/537.36 (KHTML, like Gecko) Chrome/73.0.3683.103 Safari/537.36'}\n",
    "years = ['2002', '2003', '2004', '2005', '2006', '2007', '2008', '2010', '2011', '2012', '2013', '2014', '2015', '2016', '2017', '2018', '2019']\n",
    "#HAVE TO MANUALLY GRAB 2009"
   ]
  },
  {
   "cell_type": "code",
   "execution_count": null,
   "metadata": {},
   "outputs": [],
   "source": [
    "all_players = []\n",
    "for y in years: \n",
    "    url = 'https://en.wikipedia.org/wiki/{}_College_Football_All-America_Team'.format(y)\n",
    "    r = requests.get(url, headers=headers)\n",
    "    aaSoup = BeautifulSoup(r.text, 'lxml')\n",
    "    for x in aaSoup.find_all(\"li\", class_=\"\"):\n",
    "        player = []\n",
    "        if ((\",\") in x.text and (\"(\") in x.text and (\")\") in x.text and (\"{\") not in x.text \\\n",
    "            and (\"Archived\") not in x.text and (\"Gridiron\") not in x.text and (\"edited\") not in x.text \\\n",
    "            and (\"all-purpose\") not in x.text and (\"Football\") not in x.text):\n",
    "            playerInfo = x.text.split(\",\", 1)\n",
    "            #year\n",
    "            player.append(y)\n",
    "            #Name\n",
    "            player.append(playerInfo[0])\n",
    "            playerInfo[1] = playerInfo[1].replace(\"(Fla.)\", \"FL\")\n",
    "            playerLocationAwards = playerInfo[1].split(\"(\",1)\n",
    "            #School\n",
    "            if (\"CONSENSUS\" in x.text):\n",
    "                playerLocationAwards[0] = playerLocationAwards[0].replace(\"-- CONSENSUS --\", \"\")\n",
    "                player.append(playerLocationAwards[0])\n",
    "            elif (\"UNANIMOUS\" in x.text):\n",
    "                playerLocationAwards[0] = playerLocationAwards[0].replace(\"-- UNANIMOUS --\", \"\")\n",
    "                player.append(playerLocationAwards[0])\n",
    "            else:\n",
    "                player.append(playerLocationAwards[0].strip())\n",
    "            #Awards String\n",
    "            awardString = playerLocationAwards[1]\n",
    "            #coaches (AFCA)\n",
    "            if (\"AFCA\" in awardString):\n",
    "                player.append(\"1\")\n",
    "            else:\n",
    "                player.append(\"0\")\n",
    "            #associated press (AP)\n",
    "            if (\"AP\" in awardString):\n",
    "                player.append(\"1\")\n",
    "            else:\n",
    "                player.append(\"0\")\n",
    "            #writers (FWAA)\n",
    "            if (\"FWAA\" in awardString):\n",
    "                player.append(\"1\")\n",
    "            else:\n",
    "                player.append(\"0\")\n",
    "            #sporting news (TSN)\n",
    "            if (\"TSN\" in awardString):\n",
    "                player.append(\"1\")\n",
    "            else:\n",
    "                player.append(\"0\")\n",
    "            #walter camp (WCFF)\n",
    "            if (\"WCFF\" in awardString):\n",
    "                player.append(\"1\")\n",
    "            else:\n",
    "                player.append(\"0\")\n",
    "            all_players.append(player)\n",
    "    print(all_players)\n",
    "    time.sleep(5)\n",
    "print(all_players)        "
   ]
  },
  {
   "cell_type": "code",
   "execution_count": null,
   "metadata": {},
   "outputs": [],
   "source": [
    "final_aaSelections = []\n",
    "aa_keys = ['year', 'player', 'school', 'afca', 'ap', 'fwaa', 'tsn', 'wcff']\n",
    "\n",
    "for list in all_players:\n",
    "    newdict = {aa_keys[i]: list[i] for i in range(len(aa_keys))}\n",
    "    final_aaSelections.append(newdict)\n",
    "    newdict = {}\n",
    "print(final_aaSelections)"
   ]
  },
  {
   "cell_type": "code",
   "execution_count": null,
   "metadata": {},
   "outputs": [],
   "source": [
    "with open(\"..//scraped_json//aaSelections.json\", \"w\") as write_file:\n",
    "    json.dump(final_aaSelections, write_file)"
   ]
  },
  {
   "cell_type": "code",
   "execution_count": null,
   "metadata": {},
   "outputs": [],
   "source": []
  }
 ],
 "metadata": {
  "kernelspec": {
   "display_name": "Python 3",
   "language": "python",
   "name": "python3"
  }
 },
 "nbformat": 4,
 "nbformat_minor": 2
}
