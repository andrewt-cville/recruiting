{
 "cells": [
  {
   "cell_type": "code",
   "execution_count": null,
   "metadata": {},
   "outputs": [],
   "source": [
    "#hide\n",
    "from bs4 import BeautifulSoup\n",
    "import requests\n",
    "import lxml\n",
    "import time\n",
    "import json\n",
    "import os\n",
    "import io\n",
    "import core_constants as cc"
   ]
  },
  {
   "cell_type": "markdown",
   "metadata": {},
   "source": [
    "# Process Rivals Recruits"
   ]
  },
  {
   "cell_type": "code",
   "execution_count": null,
   "metadata": {},
   "outputs": [],
   "source": [
    "conference = \"acc\"\n",
    "\n",
    "schools = cc.get_schoolsList()\n",
    "\n",
    "teamDir = cc.get_htmlDir('rivals', conference, 'teams')\n",
    "recruitDir = cc.get_htmlDir('rivals', conference, 'recruits')"
   ]
  },
  {
   "cell_type": "code",
   "execution_count": null,
   "metadata": {},
   "outputs": [],
   "source": [
    "def checkSchools(recruitSchool, conference):\n",
    "    \n",
    "    #clean recruitSchool\n",
    "    recruitSchoolCleaned = recruitSchool.lower().replace(\" \", \"\").replace(\"&\",\"\")\n",
    "    #print (recruitSchoolCleaned)\n",
    "    for school in schools:\n",
    "        if (conference in school['conference']):\n",
    "            #print('rivals: ' + school['rivals']))\n",
    "            #print('recruit: ' + recruitSchoolCleaned)\n",
    "            if ('rivalsDisplay' in school.keys() and recruitSchool == school['rivalsDisplay']):\n",
    "                return school['id']"
   ]
  },
  {
   "cell_type": "code",
   "execution_count": null,
   "metadata": {},
   "outputs": [],
   "source": [
    "all_recruits = []\n",
    "error_files = [] \n",
    "for file in os.listdir(recruitDir):\n",
    "\n",
    "    player = {}\n",
    "    #get file contents and soup it\n",
    "    recruitSoup = BeautifulSoup(io.open(recruitDir + file, \"r\", encoding='utf-8').read(), 'lxml')\n",
    "\n",
    "    #find the magical html attr\n",
    "    if (recruitSoup.find(\"div\", class_=\"profile-block\") is not None):\n",
    "        recruitInfoJson = recruitSoup.find(\"div\", class_=\"profile-block\")['ng-init']\n",
    "        #this is harsh - but i'm removing an init() and a trailing id which always seems to be x characters long\n",
    "        recruitInfo = json.loads(recruitInfoJson[5:-57])\n",
    "\n",
    "        #player info\n",
    "        #change the rivals school to the proper id\n",
    "        #for school in schools:\n",
    "        #    print(school['rivals'] + \" and \" + recruitInfo['school_name'] )\n",
    "        #    if (recruitInfo['school_name'] == school['rivals']):\n",
    "        #        player['school'] = school['id']\n",
    "        player['school'] = checkSchools(recruitInfo['school_name'],conference)\n",
    "        player['year'] = str(recruitInfo['recruit_year'])\n",
    "        player['playerName'] = recruitInfo['full_name']\n",
    "        player['city'] = recruitInfo['city']\n",
    "        player['state'] = recruitInfo['state_abbreviation']\n",
    "        player['highSchool'] = recruitInfo['highschool_name']        \n",
    "        player['position'] = recruitInfo['position_group_abbreviation']\n",
    "        player['height'] = recruitInfo['height']\n",
    "        player['weight'] = recruitInfo['weight']\n",
    "        player['stars'] = recruitInfo['stars']\n",
    "        player['nationalRank'] = recruitInfo['national_rank']\n",
    "        player['positionRank'] = recruitInfo['position_rank']\n",
    "        player['stateRank'] = recruitInfo['state_rank']\n",
    "\n",
    "        all_recruits.append(player)\n",
    "    else:\n",
    "        error_files.append(file)"
   ]
  },
  {
   "cell_type": "code",
   "execution_count": null,
   "metadata": {},
   "outputs": [],
   "source": [
    "cc.save_records('scraped_json', 'rivals_' + conference + '.json', all_recruits)"
   ]
  },
  {
   "cell_type": "code",
   "execution_count": null,
   "metadata": {},
   "outputs": [],
   "source": []
  }
 ],
 "metadata": {
  "kernelspec": {
   "display_name": "Python 3",
   "language": "python",
   "name": "python3"
  }
 },
 "nbformat": 4,
 "nbformat_minor": 2
}
